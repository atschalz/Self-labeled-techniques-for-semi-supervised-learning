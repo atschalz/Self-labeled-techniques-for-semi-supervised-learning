{
 "cells": [
  {
   "cell_type": "code",
   "execution_count": 1,
   "metadata": {
    "collapsed": true
   },
   "outputs": [],
   "source": [
    "datasets = {}\n",
    "\n",
    "from sklearn.datasets import fetch_mldata\n",
    "data = fetch_mldata(\"abalone\")"
   ]
  },
  {
   "cell_type": "code",
   "execution_count": 2,
   "metadata": {
    "collapsed": false
   },
   "outputs": [],
   "source": [
    "from sklearn.pipeline import make_pipeline\n",
    "from sklearn.preprocessing import MinMaxScaler, OneHotEncoder\n",
    "preprocessing_pipe = make_pipeline(\n",
    "    #OneHotEncoder on \"Sex\" feature\n",
    "    OneHotEncoder(categorical_features=[0], sparse=False),\n",
    "    #Scale all from 0 to 1\n",
    "    MinMaxScaler())\n",
    "\n",
    "datasets[\"abalone\"] = {\n",
    "    \"X\": preprocessing_pipe.fit_transform(data.data),\n",
    "    \"y\": data.target\n",
    "}\n"
   ]
  },
  {
   "cell_type": "code",
   "execution_count": 3,
   "metadata": {
    "collapsed": false
   },
   "outputs": [],
   "source": [
    "data = fetch_mldata(\"uci-20070111 dermatology\")\n",
    "datasets[\"dermatology\"] = {\n",
    "    \"X\": data.data[:,0:-1],\n",
    "    \"y\": data.data[:,-1]\n",
    "}"
   ]
  },
  {
   "cell_type": "code",
   "execution_count": 4,
   "metadata": {
    "collapsed": true
   },
   "outputs": [],
   "source": [
    "from sklearn.neighbors import KNeighborsClassifier\n",
    "from sklearn.naive_bayes import GaussianNB\n",
    "from sklearn.svm import SVC\n",
    "from sklearn.tree import DecisionTreeClassifier\n",
    "class base_classifiers:\n",
    "    KNN = KNeighborsClassifier(\n",
    "        n_neighbors=3,\n",
    "        metric=\"euclidean\",\n",
    "        #n_jobs=2  # Parallelize work on CPUs\n",
    "    )\n",
    "    NB = GaussianNB(\n",
    "        priors=None\n",
    "    )\n",
    "    SVM = SVC(\n",
    "        C=1.0,\n",
    "        kernel='poly',\n",
    "        degree=1,\n",
    "        tol=0.001,\n",
    "        # Epsilon parameter missing?\n",
    "    )\n",
    "    CART = DecisionTreeClassifier(\n",
    "        criterion='entropy',\n",
    "        # splitter='best',\n",
    "        # max_depth=None,\n",
    "        # min_samples_split=2,\n",
    "        min_samples_leaf=2,\n",
    "        # min_weight_fraction_leaf=0.0,\n",
    "        # max_features=None,\n",
    "        # random_state=None,\n",
    "        # max_leaf_nodes=None,\n",
    "        # min_impurity_split=1e-07,\n",
    "        # class_weight=None,\n",
    "        # presort=False,\n",
    "    )"
   ]
  },
  {
   "cell_type": "code",
   "execution_count": 5,
   "metadata": {
    "collapsed": false
   },
   "outputs": [],
   "source": [
    "from sklearn.model_selection import train_test_split\n",
    "import numpy as np\n",
    "\n",
    "def _training_scoring_iteration(clf, X, y, training_index, test_index, labeling_rate):\n",
    "    \"\"\" One iteration of training and scoring on given data\"\"\"\n",
    "    #Testing set is set aside.. - 1/10th of the data\n",
    "    X_test, y_test = X[test_index], y[test_index]\n",
    "\n",
    "    #For generating a testing and transductive set\n",
    "    split_data = train_test_split(\n",
    "        X[training_index],\n",
    "        y[training_index],\n",
    "        test_size=labeling_rate,\n",
    "        random_state=42\n",
    "    )\n",
    "    (X_unlabeled, X_labeled, y_unlabeled, y_labeled) = split_data\n",
    "\n",
    "    #Training set - 9/10 of data\n",
    "    X_train = np.concatenate((X_labeled, X_unlabeled))\n",
    "    y_train = np.concatenate((\n",
    "        y_labeled.astype(str),\n",
    "        np.full_like(y_unlabeled.astype(str), \"unlabeled\")\n",
    "    ))\n",
    "    \n",
    "    #Train the classifier\n",
    "    clf.fit(X_train, y_train)\n",
    "    \n",
    "    #Score the classifier\n",
    "    transductive_score = clf.score(X_unlabeled, y_unlabeled.astype(str))\n",
    "    testing_score = clf.score(X_test, y_test.astype(str))\n",
    "    \n",
    "    return transductive_score, testing_score\n",
    "    \n",
    "def train_and_score(clf, X, y, cv, labeling_rate):\n",
    "    \"\"\" Collects scores using CV for splitting the data in different folds\"\"\"\n",
    "    transductive_scores = []\n",
    "    testing_scores = []\n",
    "    for training_index, test_index in cv.split(X,y):\n",
    "        transductive_score, testing_score = _training_scoring_iteration(clf, X, y, training_index, test_index, labeling_rate)\n",
    "        \n",
    "        transductive_scores.append(transductive_score)\n",
    "        testing_scores.append(testing_score)\n",
    "        print(\"#\", end=\"\")\n",
    "    print()\n",
    "    return {\n",
    "        \"trans_mean\": np.mean(transductive_scores),\n",
    "        \"test_mean\": np.mean(testing_scores),\n",
    "        \"trans_std\": np.std(transductive_scores),\n",
    "        \"test_std\": np.std(testing_scores)\n",
    "    }"
   ]
  },
  {
   "cell_type": "code",
   "execution_count": 6,
   "metadata": {
    "collapsed": false,
    "scrolled": false
   },
   "outputs": [
    {
     "name": "stdout",
     "output_type": "stream",
     "text": [
      "TriTraining (KNN)\n",
      "dataset: dermatology \t\n",
      "rate: 0.1 ##########\n",
      "rate: 0.2 ##########\n",
      "rate: 0.3 ##########\n",
      "rate: 0.4 ##########\n",
      "dataset: abalone \t\n",
      "rate: 0.1 ####"
     ]
    },
    {
     "name": "stderr",
     "output_type": "stream",
     "text": [
      "/home/mark/.local/lib/python3.5/site-packages/numpy/ma/core.py:3883: FutureWarning: elementwise comparison failed; returning scalar instead, but in the future will perform elementwise comparison\n",
      "  check = self.filled(0).__eq__(other)\n",
      "/home/mark/.local/lib/python3.5/site-packages/sklearn/metrics/classification.py:177: FutureWarning: elementwise comparison failed; returning scalar instead, but in the future will perform elementwise comparison\n",
      "  score = y_true == y_pred\n"
     ]
    },
    {
     "name": "stdout",
     "output_type": "stream",
     "text": [
      "#"
     ]
    },
    {
     "name": "stderr",
     "output_type": "stream",
     "text": [
      "/home/mark/.local/lib/python3.5/site-packages/numpy/ma/core.py:3883: FutureWarning: elementwise comparison failed; returning scalar instead, but in the future will perform elementwise comparison\n",
      "  check = self.filled(0).__eq__(other)\n",
      "/home/mark/.local/lib/python3.5/site-packages/sklearn/metrics/classification.py:177: FutureWarning: elementwise comparison failed; returning scalar instead, but in the future will perform elementwise comparison\n",
      "  score = y_true == y_pred\n"
     ]
    },
    {
     "name": "stdout",
     "output_type": "stream",
     "text": [
      "#####\n",
      "rate: 0.2 "
     ]
    },
    {
     "name": "stderr",
     "output_type": "stream",
     "text": [
      "/home/mark/.local/lib/python3.5/site-packages/numpy/ma/core.py:3883: FutureWarning: elementwise comparison failed; returning scalar instead, but in the future will perform elementwise comparison\n",
      "  check = self.filled(0).__eq__(other)\n",
      "/home/mark/.local/lib/python3.5/site-packages/sklearn/metrics/classification.py:177: FutureWarning: elementwise comparison failed; returning scalar instead, but in the future will perform elementwise comparison\n",
      "  score = y_true == y_pred\n"
     ]
    },
    {
     "name": "stdout",
     "output_type": "stream",
     "text": [
      "##"
     ]
    },
    {
     "name": "stderr",
     "output_type": "stream",
     "text": [
      "/home/mark/.local/lib/python3.5/site-packages/numpy/ma/core.py:3883: FutureWarning: elementwise comparison failed; returning scalar instead, but in the future will perform elementwise comparison\n",
      "  check = self.filled(0).__eq__(other)\n",
      "/home/mark/.local/lib/python3.5/site-packages/sklearn/metrics/classification.py:177: FutureWarning: elementwise comparison failed; returning scalar instead, but in the future will perform elementwise comparison\n",
      "  score = y_true == y_pred\n"
     ]
    },
    {
     "name": "stdout",
     "output_type": "stream",
     "text": [
      "##"
     ]
    },
    {
     "name": "stderr",
     "output_type": "stream",
     "text": [
      "/home/mark/.local/lib/python3.5/site-packages/numpy/ma/core.py:3883: FutureWarning: elementwise comparison failed; returning scalar instead, but in the future will perform elementwise comparison\n",
      "  check = self.filled(0).__eq__(other)\n",
      "/home/mark/.local/lib/python3.5/site-packages/sklearn/metrics/classification.py:177: FutureWarning: elementwise comparison failed; returning scalar instead, but in the future will perform elementwise comparison\n",
      "  score = y_true == y_pred\n"
     ]
    },
    {
     "name": "stdout",
     "output_type": "stream",
     "text": [
      "##"
     ]
    },
    {
     "name": "stderr",
     "output_type": "stream",
     "text": [
      "/home/mark/.local/lib/python3.5/site-packages/numpy/ma/core.py:3883: FutureWarning: elementwise comparison failed; returning scalar instead, but in the future will perform elementwise comparison\n",
      "  check = self.filled(0).__eq__(other)\n",
      "/home/mark/.local/lib/python3.5/site-packages/sklearn/metrics/classification.py:177: FutureWarning: elementwise comparison failed; returning scalar instead, but in the future will perform elementwise comparison\n",
      "  score = y_true == y_pred\n"
     ]
    },
    {
     "name": "stdout",
     "output_type": "stream",
     "text": [
      "#"
     ]
    },
    {
     "name": "stderr",
     "output_type": "stream",
     "text": [
      "/home/mark/.local/lib/python3.5/site-packages/numpy/ma/core.py:3883: FutureWarning: elementwise comparison failed; returning scalar instead, but in the future will perform elementwise comparison\n",
      "  check = self.filled(0).__eq__(other)\n",
      "/home/mark/.local/lib/python3.5/site-packages/sklearn/metrics/classification.py:177: FutureWarning: elementwise comparison failed; returning scalar instead, but in the future will perform elementwise comparison\n",
      "  score = y_true == y_pred\n"
     ]
    },
    {
     "name": "stdout",
     "output_type": "stream",
     "text": [
      "#"
     ]
    },
    {
     "name": "stderr",
     "output_type": "stream",
     "text": [
      "/home/mark/.local/lib/python3.5/site-packages/numpy/ma/core.py:3883: FutureWarning: elementwise comparison failed; returning scalar instead, but in the future will perform elementwise comparison\n",
      "  check = self.filled(0).__eq__(other)\n",
      "/home/mark/.local/lib/python3.5/site-packages/sklearn/metrics/classification.py:177: FutureWarning: elementwise comparison failed; returning scalar instead, but in the future will perform elementwise comparison\n",
      "  score = y_true == y_pred\n"
     ]
    },
    {
     "name": "stdout",
     "output_type": "stream",
     "text": [
      "##\n",
      "rate: 0.3 #"
     ]
    },
    {
     "name": "stderr",
     "output_type": "stream",
     "text": [
      "/home/mark/.local/lib/python3.5/site-packages/numpy/ma/core.py:3883: FutureWarning: elementwise comparison failed; returning scalar instead, but in the future will perform elementwise comparison\n",
      "  check = self.filled(0).__eq__(other)\n",
      "/home/mark/.local/lib/python3.5/site-packages/sklearn/metrics/classification.py:177: FutureWarning: elementwise comparison failed; returning scalar instead, but in the future will perform elementwise comparison\n",
      "  score = y_true == y_pred\n"
     ]
    },
    {
     "name": "stdout",
     "output_type": "stream",
     "text": [
      "#########\n",
      "rate: 0.4 ###"
     ]
    },
    {
     "name": "stderr",
     "output_type": "stream",
     "text": [
      "/home/mark/.local/lib/python3.5/site-packages/numpy/ma/core.py:3883: FutureWarning: elementwise comparison failed; returning scalar instead, but in the future will perform elementwise comparison\n",
      "  check = self.filled(0).__eq__(other)\n",
      "/home/mark/.local/lib/python3.5/site-packages/sklearn/metrics/classification.py:177: FutureWarning: elementwise comparison failed; returning scalar instead, but in the future will perform elementwise comparison\n",
      "  score = y_true == y_pred\n"
     ]
    },
    {
     "name": "stdout",
     "output_type": "stream",
     "text": [
      "###"
     ]
    },
    {
     "name": "stderr",
     "output_type": "stream",
     "text": [
      "/home/mark/.local/lib/python3.5/site-packages/numpy/ma/core.py:3883: FutureWarning: elementwise comparison failed; returning scalar instead, but in the future will perform elementwise comparison\n",
      "  check = self.filled(0).__eq__(other)\n",
      "/home/mark/.local/lib/python3.5/site-packages/sklearn/metrics/classification.py:177: FutureWarning: elementwise comparison failed; returning scalar instead, but in the future will perform elementwise comparison\n",
      "  score = y_true == y_pred\n"
     ]
    },
    {
     "name": "stdout",
     "output_type": "stream",
     "text": [
      "###"
     ]
    },
    {
     "name": "stderr",
     "output_type": "stream",
     "text": [
      "/home/mark/.local/lib/python3.5/site-packages/numpy/ma/core.py:3883: FutureWarning: elementwise comparison failed; returning scalar instead, but in the future will perform elementwise comparison\n",
      "  check = self.filled(0).__eq__(other)\n",
      "/home/mark/.local/lib/python3.5/site-packages/sklearn/metrics/classification.py:177: FutureWarning: elementwise comparison failed; returning scalar instead, but in the future will perform elementwise comparison\n",
      "  score = y_true == y_pred\n"
     ]
    },
    {
     "name": "stdout",
     "output_type": "stream",
     "text": [
      "#\n",
      "\n",
      "--------\n",
      "TriTraining (NB)\n",
      "dataset: dermatology \t\n",
      "rate: 0.1 ##########\n",
      "rate: 0.2 ###"
     ]
    },
    {
     "name": "stderr",
     "output_type": "stream",
     "text": [
      "/home/mark/.local/lib/python3.5/site-packages/numpy/ma/core.py:3883: FutureWarning: elementwise comparison failed; returning scalar instead, but in the future will perform elementwise comparison\n",
      "  check = self.filled(0).__eq__(other)\n",
      "/home/mark/.local/lib/python3.5/site-packages/sklearn/metrics/classification.py:177: FutureWarning: elementwise comparison failed; returning scalar instead, but in the future will perform elementwise comparison\n",
      "  score = y_true == y_pred\n"
     ]
    },
    {
     "name": "stdout",
     "output_type": "stream",
     "text": [
      "#######\n",
      "rate: 0.3 #"
     ]
    },
    {
     "name": "stderr",
     "output_type": "stream",
     "text": [
      "/home/mark/.local/lib/python3.5/site-packages/numpy/ma/core.py:3883: FutureWarning: elementwise comparison failed; returning scalar instead, but in the future will perform elementwise comparison\n",
      "  check = self.filled(0).__eq__(other)\n",
      "/home/mark/.local/lib/python3.5/site-packages/sklearn/metrics/classification.py:177: FutureWarning: elementwise comparison failed; returning scalar instead, but in the future will perform elementwise comparison\n",
      "  score = y_true == y_pred\n"
     ]
    },
    {
     "name": "stdout",
     "output_type": "stream",
     "text": [
      "#####"
     ]
    },
    {
     "name": "stderr",
     "output_type": "stream",
     "text": [
      "/home/mark/.local/lib/python3.5/site-packages/numpy/ma/core.py:3883: FutureWarning: elementwise comparison failed; returning scalar instead, but in the future will perform elementwise comparison\n",
      "  check = self.filled(0).__eq__(other)\n",
      "/home/mark/.local/lib/python3.5/site-packages/sklearn/metrics/classification.py:177: FutureWarning: elementwise comparison failed; returning scalar instead, but in the future will perform elementwise comparison\n",
      "  score = y_true == y_pred\n"
     ]
    },
    {
     "name": "stdout",
     "output_type": "stream",
     "text": [
      "####\n",
      "rate: 0.4 ########"
     ]
    },
    {
     "name": "stderr",
     "output_type": "stream",
     "text": [
      "/home/mark/.local/lib/python3.5/site-packages/numpy/ma/core.py:3883: FutureWarning: elementwise comparison failed; returning scalar instead, but in the future will perform elementwise comparison\n",
      "  check = self.filled(0).__eq__(other)\n",
      "/home/mark/.local/lib/python3.5/site-packages/sklearn/metrics/classification.py:177: FutureWarning: elementwise comparison failed; returning scalar instead, but in the future will perform elementwise comparison\n",
      "  score = y_true == y_pred\n"
     ]
    },
    {
     "name": "stdout",
     "output_type": "stream",
     "text": [
      "##\n",
      "dataset: abalone \t\n",
      "rate: 0.1 ##"
     ]
    },
    {
     "name": "stderr",
     "output_type": "stream",
     "text": [
      "/home/mark/.local/lib/python3.5/site-packages/numpy/ma/core.py:3883: FutureWarning: elementwise comparison failed; returning scalar instead, but in the future will perform elementwise comparison\n",
      "  check = self.filled(0).__eq__(other)\n",
      "/home/mark/.local/lib/python3.5/site-packages/sklearn/metrics/classification.py:177: FutureWarning: elementwise comparison failed; returning scalar instead, but in the future will perform elementwise comparison\n",
      "  score = y_true == y_pred\n"
     ]
    },
    {
     "name": "stdout",
     "output_type": "stream",
     "text": [
      "#"
     ]
    },
    {
     "name": "stderr",
     "output_type": "stream",
     "text": [
      "/home/mark/.local/lib/python3.5/site-packages/numpy/ma/core.py:3883: FutureWarning: elementwise comparison failed; returning scalar instead, but in the future will perform elementwise comparison\n",
      "  check = self.filled(0).__eq__(other)\n",
      "/home/mark/.local/lib/python3.5/site-packages/sklearn/metrics/classification.py:177: FutureWarning: elementwise comparison failed; returning scalar instead, but in the future will perform elementwise comparison\n",
      "  score = y_true == y_pred\n"
     ]
    },
    {
     "name": "stdout",
     "output_type": "stream",
     "text": [
      "#"
     ]
    },
    {
     "name": "stderr",
     "output_type": "stream",
     "text": [
      "/home/mark/.local/lib/python3.5/site-packages/numpy/ma/core.py:3883: FutureWarning: elementwise comparison failed; returning scalar instead, but in the future will perform elementwise comparison\n",
      "  check = self.filled(0).__eq__(other)\n",
      "/home/mark/.local/lib/python3.5/site-packages/sklearn/metrics/classification.py:177: FutureWarning: elementwise comparison failed; returning scalar instead, but in the future will perform elementwise comparison\n",
      "  score = y_true == y_pred\n"
     ]
    },
    {
     "name": "stdout",
     "output_type": "stream",
     "text": [
      "##"
     ]
    },
    {
     "name": "stderr",
     "output_type": "stream",
     "text": [
      "/home/mark/.local/lib/python3.5/site-packages/numpy/ma/core.py:3883: FutureWarning: elementwise comparison failed; returning scalar instead, but in the future will perform elementwise comparison\n",
      "  check = self.filled(0).__eq__(other)\n",
      "/home/mark/.local/lib/python3.5/site-packages/sklearn/metrics/classification.py:177: FutureWarning: elementwise comparison failed; returning scalar instead, but in the future will perform elementwise comparison\n",
      "  score = y_true == y_pred\n"
     ]
    },
    {
     "name": "stdout",
     "output_type": "stream",
     "text": [
      "####\n",
      "rate: 0.2 "
     ]
    },
    {
     "name": "stderr",
     "output_type": "stream",
     "text": [
      "/home/mark/.local/lib/python3.5/site-packages/numpy/ma/core.py:3883: FutureWarning: elementwise comparison failed; returning scalar instead, but in the future will perform elementwise comparison\n",
      "  check = self.filled(0).__eq__(other)\n",
      "/home/mark/.local/lib/python3.5/site-packages/sklearn/metrics/classification.py:177: FutureWarning: elementwise comparison failed; returning scalar instead, but in the future will perform elementwise comparison\n",
      "  score = y_true == y_pred\n"
     ]
    },
    {
     "name": "stdout",
     "output_type": "stream",
     "text": [
      "#"
     ]
    },
    {
     "name": "stderr",
     "output_type": "stream",
     "text": [
      "/home/mark/.local/lib/python3.5/site-packages/numpy/ma/core.py:3883: FutureWarning: elementwise comparison failed; returning scalar instead, but in the future will perform elementwise comparison\n",
      "  check = self.filled(0).__eq__(other)\n",
      "/home/mark/.local/lib/python3.5/site-packages/sklearn/metrics/classification.py:177: FutureWarning: elementwise comparison failed; returning scalar instead, but in the future will perform elementwise comparison\n",
      "  score = y_true == y_pred\n"
     ]
    },
    {
     "name": "stdout",
     "output_type": "stream",
     "text": [
      "##"
     ]
    },
    {
     "name": "stderr",
     "output_type": "stream",
     "text": [
      "/home/mark/.local/lib/python3.5/site-packages/numpy/ma/core.py:3883: FutureWarning: elementwise comparison failed; returning scalar instead, but in the future will perform elementwise comparison\n",
      "  check = self.filled(0).__eq__(other)\n",
      "/home/mark/.local/lib/python3.5/site-packages/sklearn/metrics/classification.py:177: FutureWarning: elementwise comparison failed; returning scalar instead, but in the future will perform elementwise comparison\n",
      "  score = y_true == y_pred\n"
     ]
    },
    {
     "name": "stdout",
     "output_type": "stream",
     "text": [
      "#"
     ]
    },
    {
     "name": "stderr",
     "output_type": "stream",
     "text": [
      "/home/mark/.local/lib/python3.5/site-packages/numpy/ma/core.py:3883: FutureWarning: elementwise comparison failed; returning scalar instead, but in the future will perform elementwise comparison\n",
      "  check = self.filled(0).__eq__(other)\n",
      "/home/mark/.local/lib/python3.5/site-packages/sklearn/metrics/classification.py:177: FutureWarning: elementwise comparison failed; returning scalar instead, but in the future will perform elementwise comparison\n",
      "  score = y_true == y_pred\n"
     ]
    },
    {
     "name": "stdout",
     "output_type": "stream",
     "text": [
      "##"
     ]
    },
    {
     "name": "stderr",
     "output_type": "stream",
     "text": [
      "/home/mark/.local/lib/python3.5/site-packages/numpy/ma/core.py:3883: FutureWarning: elementwise comparison failed; returning scalar instead, but in the future will perform elementwise comparison\n",
      "  check = self.filled(0).__eq__(other)\n",
      "/home/mark/.local/lib/python3.5/site-packages/sklearn/metrics/classification.py:177: FutureWarning: elementwise comparison failed; returning scalar instead, but in the future will perform elementwise comparison\n",
      "  score = y_true == y_pred\n"
     ]
    },
    {
     "name": "stdout",
     "output_type": "stream",
     "text": [
      "##"
     ]
    },
    {
     "name": "stderr",
     "output_type": "stream",
     "text": [
      "/home/mark/.local/lib/python3.5/site-packages/numpy/ma/core.py:3883: FutureWarning: elementwise comparison failed; returning scalar instead, but in the future will perform elementwise comparison\n",
      "  check = self.filled(0).__eq__(other)\n",
      "/home/mark/.local/lib/python3.5/site-packages/sklearn/metrics/classification.py:177: FutureWarning: elementwise comparison failed; returning scalar instead, but in the future will perform elementwise comparison\n",
      "  score = y_true == y_pred\n"
     ]
    },
    {
     "name": "stdout",
     "output_type": "stream",
     "text": [
      "##\n",
      "rate: 0.3 #"
     ]
    },
    {
     "name": "stderr",
     "output_type": "stream",
     "text": [
      "/home/mark/.local/lib/python3.5/site-packages/numpy/ma/core.py:3883: FutureWarning: elementwise comparison failed; returning scalar instead, but in the future will perform elementwise comparison\n",
      "  check = self.filled(0).__eq__(other)\n",
      "/home/mark/.local/lib/python3.5/site-packages/sklearn/metrics/classification.py:177: FutureWarning: elementwise comparison failed; returning scalar instead, but in the future will perform elementwise comparison\n",
      "  score = y_true == y_pred\n"
     ]
    },
    {
     "name": "stdout",
     "output_type": "stream",
     "text": [
      "##"
     ]
    },
    {
     "name": "stderr",
     "output_type": "stream",
     "text": [
      "/home/mark/.local/lib/python3.5/site-packages/numpy/ma/core.py:3883: FutureWarning: elementwise comparison failed; returning scalar instead, but in the future will perform elementwise comparison\n",
      "  check = self.filled(0).__eq__(other)\n",
      "/home/mark/.local/lib/python3.5/site-packages/sklearn/metrics/classification.py:177: FutureWarning: elementwise comparison failed; returning scalar instead, but in the future will perform elementwise comparison\n",
      "  score = y_true == y_pred\n"
     ]
    },
    {
     "name": "stdout",
     "output_type": "stream",
     "text": [
      "#"
     ]
    },
    {
     "name": "stderr",
     "output_type": "stream",
     "text": [
      "/home/mark/.local/lib/python3.5/site-packages/numpy/ma/core.py:3883: FutureWarning: elementwise comparison failed; returning scalar instead, but in the future will perform elementwise comparison\n",
      "  check = self.filled(0).__eq__(other)\n",
      "/home/mark/.local/lib/python3.5/site-packages/sklearn/metrics/classification.py:177: FutureWarning: elementwise comparison failed; returning scalar instead, but in the future will perform elementwise comparison\n",
      "  score = y_true == y_pred\n"
     ]
    },
    {
     "name": "stdout",
     "output_type": "stream",
     "text": [
      "#"
     ]
    },
    {
     "name": "stderr",
     "output_type": "stream",
     "text": [
      "/home/mark/.local/lib/python3.5/site-packages/numpy/ma/core.py:3883: FutureWarning: elementwise comparison failed; returning scalar instead, but in the future will perform elementwise comparison\n",
      "  check = self.filled(0).__eq__(other)\n",
      "/home/mark/.local/lib/python3.5/site-packages/sklearn/metrics/classification.py:177: FutureWarning: elementwise comparison failed; returning scalar instead, but in the future will perform elementwise comparison\n",
      "  score = y_true == y_pred\n"
     ]
    },
    {
     "name": "stdout",
     "output_type": "stream",
     "text": [
      "##"
     ]
    },
    {
     "name": "stderr",
     "output_type": "stream",
     "text": [
      "/home/mark/.local/lib/python3.5/site-packages/numpy/ma/core.py:3883: FutureWarning: elementwise comparison failed; returning scalar instead, but in the future will perform elementwise comparison\n",
      "  check = self.filled(0).__eq__(other)\n",
      "/home/mark/.local/lib/python3.5/site-packages/sklearn/metrics/classification.py:177: FutureWarning: elementwise comparison failed; returning scalar instead, but in the future will perform elementwise comparison\n",
      "  score = y_true == y_pred\n"
     ]
    },
    {
     "name": "stdout",
     "output_type": "stream",
     "text": [
      "#"
     ]
    },
    {
     "name": "stderr",
     "output_type": "stream",
     "text": [
      "/home/mark/.local/lib/python3.5/site-packages/numpy/ma/core.py:3883: FutureWarning: elementwise comparison failed; returning scalar instead, but in the future will perform elementwise comparison\n",
      "  check = self.filled(0).__eq__(other)\n",
      "/home/mark/.local/lib/python3.5/site-packages/sklearn/metrics/classification.py:177: FutureWarning: elementwise comparison failed; returning scalar instead, but in the future will perform elementwise comparison\n",
      "  score = y_true == y_pred\n"
     ]
    },
    {
     "name": "stdout",
     "output_type": "stream",
     "text": [
      "#"
     ]
    },
    {
     "name": "stderr",
     "output_type": "stream",
     "text": [
      "/home/mark/.local/lib/python3.5/site-packages/numpy/ma/core.py:3883: FutureWarning: elementwise comparison failed; returning scalar instead, but in the future will perform elementwise comparison\n",
      "  check = self.filled(0).__eq__(other)\n",
      "/home/mark/.local/lib/python3.5/site-packages/sklearn/metrics/classification.py:177: FutureWarning: elementwise comparison failed; returning scalar instead, but in the future will perform elementwise comparison\n",
      "  score = y_true == y_pred\n"
     ]
    },
    {
     "name": "stdout",
     "output_type": "stream",
     "text": [
      "#\n",
      "rate: 0.4 "
     ]
    },
    {
     "name": "stderr",
     "output_type": "stream",
     "text": [
      "/home/mark/.local/lib/python3.5/site-packages/numpy/ma/core.py:3883: FutureWarning: elementwise comparison failed; returning scalar instead, but in the future will perform elementwise comparison\n",
      "  check = self.filled(0).__eq__(other)\n",
      "/home/mark/.local/lib/python3.5/site-packages/sklearn/metrics/classification.py:177: FutureWarning: elementwise comparison failed; returning scalar instead, but in the future will perform elementwise comparison\n",
      "  score = y_true == y_pred\n"
     ]
    },
    {
     "name": "stdout",
     "output_type": "stream",
     "text": [
      "#"
     ]
    },
    {
     "name": "stderr",
     "output_type": "stream",
     "text": [
      "/home/mark/.local/lib/python3.5/site-packages/numpy/ma/core.py:3883: FutureWarning: elementwise comparison failed; returning scalar instead, but in the future will perform elementwise comparison\n",
      "  check = self.filled(0).__eq__(other)\n",
      "/home/mark/.local/lib/python3.5/site-packages/sklearn/metrics/classification.py:177: FutureWarning: elementwise comparison failed; returning scalar instead, but in the future will perform elementwise comparison\n",
      "  score = y_true == y_pred\n"
     ]
    },
    {
     "name": "stdout",
     "output_type": "stream",
     "text": [
      "###"
     ]
    },
    {
     "name": "stderr",
     "output_type": "stream",
     "text": [
      "/home/mark/.local/lib/python3.5/site-packages/numpy/ma/core.py:3883: FutureWarning: elementwise comparison failed; returning scalar instead, but in the future will perform elementwise comparison\n",
      "  check = self.filled(0).__eq__(other)\n",
      "/home/mark/.local/lib/python3.5/site-packages/sklearn/metrics/classification.py:177: FutureWarning: elementwise comparison failed; returning scalar instead, but in the future will perform elementwise comparison\n",
      "  score = y_true == y_pred\n"
     ]
    },
    {
     "name": "stdout",
     "output_type": "stream",
     "text": [
      "#"
     ]
    },
    {
     "name": "stderr",
     "output_type": "stream",
     "text": [
      "/home/mark/.local/lib/python3.5/site-packages/numpy/ma/core.py:3883: FutureWarning: elementwise comparison failed; returning scalar instead, but in the future will perform elementwise comparison\n",
      "  check = self.filled(0).__eq__(other)\n",
      "/home/mark/.local/lib/python3.5/site-packages/sklearn/metrics/classification.py:177: FutureWarning: elementwise comparison failed; returning scalar instead, but in the future will perform elementwise comparison\n",
      "  score = y_true == y_pred\n"
     ]
    },
    {
     "name": "stdout",
     "output_type": "stream",
     "text": [
      "##"
     ]
    },
    {
     "name": "stderr",
     "output_type": "stream",
     "text": [
      "/home/mark/.local/lib/python3.5/site-packages/numpy/ma/core.py:3883: FutureWarning: elementwise comparison failed; returning scalar instead, but in the future will perform elementwise comparison\n",
      "  check = self.filled(0).__eq__(other)\n",
      "/home/mark/.local/lib/python3.5/site-packages/sklearn/metrics/classification.py:177: FutureWarning: elementwise comparison failed; returning scalar instead, but in the future will perform elementwise comparison\n",
      "  score = y_true == y_pred\n"
     ]
    },
    {
     "name": "stdout",
     "output_type": "stream",
     "text": [
      "##"
     ]
    },
    {
     "name": "stderr",
     "output_type": "stream",
     "text": [
      "/home/mark/.local/lib/python3.5/site-packages/numpy/ma/core.py:3883: FutureWarning: elementwise comparison failed; returning scalar instead, but in the future will perform elementwise comparison\n",
      "  check = self.filled(0).__eq__(other)\n",
      "/home/mark/.local/lib/python3.5/site-packages/sklearn/metrics/classification.py:177: FutureWarning: elementwise comparison failed; returning scalar instead, but in the future will perform elementwise comparison\n",
      "  score = y_true == y_pred\n"
     ]
    },
    {
     "name": "stdout",
     "output_type": "stream",
     "text": [
      "#\n",
      "\n",
      "--------\n",
      "TriTraining (CART)\n",
      "dataset: dermatology \t\n",
      "rate: 0.1 ##########\n",
      "rate: 0.2 ##########\n",
      "rate: 0.3 ##########\n",
      "rate: 0.4 ##########\n",
      "dataset: abalone \t\n",
      "rate: 0.1 ##########\n",
      "rate: 0.2 ####"
     ]
    },
    {
     "name": "stderr",
     "output_type": "stream",
     "text": [
      "/home/mark/.local/lib/python3.5/site-packages/numpy/ma/core.py:3883: FutureWarning: elementwise comparison failed; returning scalar instead, but in the future will perform elementwise comparison\n",
      "  check = self.filled(0).__eq__(other)\n",
      "/home/mark/.local/lib/python3.5/site-packages/sklearn/metrics/classification.py:177: FutureWarning: elementwise comparison failed; returning scalar instead, but in the future will perform elementwise comparison\n",
      "  score = y_true == y_pred\n"
     ]
    },
    {
     "name": "stdout",
     "output_type": "stream",
     "text": [
      "######\n",
      "rate: 0.3 #"
     ]
    },
    {
     "name": "stderr",
     "output_type": "stream",
     "text": [
      "/home/mark/.local/lib/python3.5/site-packages/numpy/ma/core.py:3883: FutureWarning: elementwise comparison failed; returning scalar instead, but in the future will perform elementwise comparison\n",
      "  check = self.filled(0).__eq__(other)\n",
      "/home/mark/.local/lib/python3.5/site-packages/sklearn/metrics/classification.py:177: FutureWarning: elementwise comparison failed; returning scalar instead, but in the future will perform elementwise comparison\n",
      "  score = y_true == y_pred\n"
     ]
    },
    {
     "name": "stdout",
     "output_type": "stream",
     "text": [
      "#######"
     ]
    },
    {
     "name": "stderr",
     "output_type": "stream",
     "text": [
      "/home/mark/.local/lib/python3.5/site-packages/numpy/ma/core.py:3883: FutureWarning: elementwise comparison failed; returning scalar instead, but in the future will perform elementwise comparison\n",
      "  check = self.filled(0).__eq__(other)\n",
      "/home/mark/.local/lib/python3.5/site-packages/sklearn/metrics/classification.py:177: FutureWarning: elementwise comparison failed; returning scalar instead, but in the future will perform elementwise comparison\n",
      "  score = y_true == y_pred\n"
     ]
    },
    {
     "name": "stdout",
     "output_type": "stream",
     "text": [
      "##\n",
      "rate: 0.4 ##########\n",
      "\n",
      "--------\n",
      "Self-Training (KNN)\n",
      "dataset: dermatology \t\n",
      "rate: 0.1 ##########\n",
      "rate: 0.2 ##########\n",
      "rate: 0.3 ##########\n",
      "rate: 0.4 ##########\n",
      "dataset: abalone \t\n",
      "rate: 0.1 ##########\n",
      "rate: 0.2 ##########\n",
      "rate: 0.3 ##########\n",
      "rate: 0.4 ##########\n",
      "\n",
      "--------\n",
      "Self-Training (NB)\n",
      "dataset: dermatology \t\n",
      "rate: 0.1 ##########\n",
      "rate: 0.2 ##########\n",
      "rate: 0.3 ##########\n",
      "rate: 0.4 ##########\n",
      "dataset: abalone \t\n",
      "rate: 0.1 ##########\n",
      "rate: 0.2 ##########\n",
      "rate: 0.3 ##########\n",
      "rate: 0.4 ##########\n",
      "\n",
      "--------\n",
      "Self-Training (CART)\n",
      "dataset: dermatology \t\n",
      "rate: 0.1 ##########\n",
      "rate: 0.2 ##########\n",
      "rate: 0.3 ##########\n",
      "rate: 0.4 ##########\n",
      "dataset: abalone \t\n",
      "rate: 0.1 ##########\n",
      "rate: 0.2 ##########\n",
      "rate: 0.3 ##########\n",
      "rate: 0.4 ##########\n",
      "\n",
      "--------\n"
     ]
    }
   ],
   "source": [
    "from StandardSelfTraining import StandardSelfTraining\n",
    "from tri_training import TriTraining\n",
    "from sklearn.model_selection import KFold\n",
    "import pandas as pd\n",
    "\n",
    "# All classifiers used for testing\n",
    "classifiers = [\n",
    "    TriTraining(\"TriTraining (KNN)\", base_classifiers.KNN),\n",
    "    TriTraining(\"TriTraining (NB)\", base_classifiers.NB),\n",
    "    #TriTraining(\"TriTraining (SVM)\", base_classifiers.SVM),\n",
    "    TriTraining(\"TriTraining (CART)\", base_classifiers.CART),\n",
    "    StandardSelfTraining(\"Self-Training (KNN)\", base_classifiers.KNN),\n",
    "    StandardSelfTraining(\"Self-Training (NB)\", base_classifiers.NB),\n",
    "    #StandardSelfTraining(\"Self-Training (SVM)\", base_classifiers.SVM),\n",
    "    StandardSelfTraining(\"Self-Training (CART)\", base_classifiers.CART)\n",
    "]\n",
    "labeling_rates = [0.10, 0.20, 0.30, 0.40]\n",
    "\n",
    "#Columns in datasets that are categorical and need o be replaced with hot-one\n",
    "categorical_columns = [[], [0]]\n",
    "results = None\n",
    "\n",
    "for classifier in classifiers:\n",
    "    print(classifier.name)\n",
    "    for dataset_name, dataset in datasets.items():\n",
    "        print(\"dataset:\", dataset_name, \"\\t\")\n",
    "        for labeling_rate in labeling_rates:\n",
    "            print(\"rate:\", labeling_rate, end=\" \")\n",
    "\n",
    "            test_info = { \"classifier\": classifier.name, \"dataset\":dataset_name, \"labeling_rate\":labeling_rate}\n",
    "            cv = KFold(n_splits=10, random_state=42)\n",
    "            scores = train_and_score(classifier, dataset[\"X\"], dataset[\"y\"], cv, labeling_rate)\n",
    "\n",
    "            if results is None:\n",
    "                results = pd.DataFrame([{**test_info, **scores}])\n",
    "            else:\n",
    "                results.loc[len(results.index)] = {**test_info, **scores}\n",
    "    print()\n",
    "    print(\"--------\")"
   ]
  },
  {
   "cell_type": "code",
   "execution_count": 7,
   "metadata": {
    "collapsed": false
   },
   "outputs": [
    {
     "data": {
      "text/html": [
       "<div>\n",
       "<table border=\"1\" class=\"dataframe\">\n",
       "  <thead>\n",
       "    <tr style=\"text-align: right;\">\n",
       "      <th></th>\n",
       "      <th>classifier</th>\n",
       "      <th>dataset</th>\n",
       "      <th>labeling_rate</th>\n",
       "      <th>test_mean</th>\n",
       "      <th>test_std</th>\n",
       "      <th>trans_mean</th>\n",
       "      <th>trans_std</th>\n",
       "    </tr>\n",
       "  </thead>\n",
       "  <tbody>\n",
       "    <tr>\n",
       "      <th>0</th>\n",
       "      <td>TriTraining (KNN)</td>\n",
       "      <td>dermatology</td>\n",
       "      <td>0.1</td>\n",
       "      <td>0.480781</td>\n",
       "      <td>0.052778</td>\n",
       "      <td>0.453492</td>\n",
       "      <td>0.045858</td>\n",
       "    </tr>\n",
       "    <tr>\n",
       "      <th>1</th>\n",
       "      <td>TriTraining (KNN)</td>\n",
       "      <td>dermatology</td>\n",
       "      <td>0.2</td>\n",
       "      <td>0.647748</td>\n",
       "      <td>0.070364</td>\n",
       "      <td>0.664780</td>\n",
       "      <td>0.020741</td>\n",
       "    </tr>\n",
       "    <tr>\n",
       "      <th>2</th>\n",
       "      <td>TriTraining (KNN)</td>\n",
       "      <td>dermatology</td>\n",
       "      <td>0.3</td>\n",
       "      <td>0.737913</td>\n",
       "      <td>0.080060</td>\n",
       "      <td>0.740439</td>\n",
       "      <td>0.019958</td>\n",
       "    </tr>\n",
       "    <tr>\n",
       "      <th>3</th>\n",
       "      <td>TriTraining (KNN)</td>\n",
       "      <td>dermatology</td>\n",
       "      <td>0.4</td>\n",
       "      <td>0.784234</td>\n",
       "      <td>0.080520</td>\n",
       "      <td>0.799390</td>\n",
       "      <td>0.025973</td>\n",
       "    </tr>\n",
       "    <tr>\n",
       "      <th>4</th>\n",
       "      <td>TriTraining (KNN)</td>\n",
       "      <td>abalone</td>\n",
       "      <td>0.1</td>\n",
       "      <td>0.175739</td>\n",
       "      <td>0.084579</td>\n",
       "      <td>0.189192</td>\n",
       "      <td>0.063644</td>\n",
       "    </tr>\n",
       "    <tr>\n",
       "      <th>5</th>\n",
       "      <td>TriTraining (KNN)</td>\n",
       "      <td>abalone</td>\n",
       "      <td>0.2</td>\n",
       "      <td>0.114168</td>\n",
       "      <td>0.103320</td>\n",
       "      <td>0.144376</td>\n",
       "      <td>0.094710</td>\n",
       "    </tr>\n",
       "    <tr>\n",
       "      <th>6</th>\n",
       "      <td>TriTraining (KNN)</td>\n",
       "      <td>abalone</td>\n",
       "      <td>0.3</td>\n",
       "      <td>0.194894</td>\n",
       "      <td>0.057701</td>\n",
       "      <td>0.182568</td>\n",
       "      <td>0.061844</td>\n",
       "    </tr>\n",
       "    <tr>\n",
       "      <th>7</th>\n",
       "      <td>TriTraining (KNN)</td>\n",
       "      <td>abalone</td>\n",
       "      <td>0.4</td>\n",
       "      <td>0.176231</td>\n",
       "      <td>0.079328</td>\n",
       "      <td>0.166234</td>\n",
       "      <td>0.083732</td>\n",
       "    </tr>\n",
       "    <tr>\n",
       "      <th>8</th>\n",
       "      <td>TriTraining (NB)</td>\n",
       "      <td>dermatology</td>\n",
       "      <td>0.1</td>\n",
       "      <td>0.364264</td>\n",
       "      <td>0.188874</td>\n",
       "      <td>0.363607</td>\n",
       "      <td>0.233967</td>\n",
       "    </tr>\n",
       "    <tr>\n",
       "      <th>9</th>\n",
       "      <td>TriTraining (NB)</td>\n",
       "      <td>dermatology</td>\n",
       "      <td>0.2</td>\n",
       "      <td>0.171847</td>\n",
       "      <td>0.099674</td>\n",
       "      <td>0.169632</td>\n",
       "      <td>0.067516</td>\n",
       "    </tr>\n",
       "    <tr>\n",
       "      <th>10</th>\n",
       "      <td>TriTraining (NB)</td>\n",
       "      <td>dermatology</td>\n",
       "      <td>0.3</td>\n",
       "      <td>0.169294</td>\n",
       "      <td>0.091715</td>\n",
       "      <td>0.207039</td>\n",
       "      <td>0.084214</td>\n",
       "    </tr>\n",
       "    <tr>\n",
       "      <th>11</th>\n",
       "      <td>TriTraining (NB)</td>\n",
       "      <td>dermatology</td>\n",
       "      <td>0.4</td>\n",
       "      <td>0.157282</td>\n",
       "      <td>0.114904</td>\n",
       "      <td>0.222007</td>\n",
       "      <td>0.087498</td>\n",
       "    </tr>\n",
       "    <tr>\n",
       "      <th>12</th>\n",
       "      <td>TriTraining (NB)</td>\n",
       "      <td>abalone</td>\n",
       "      <td>0.1</td>\n",
       "      <td>0.093609</td>\n",
       "      <td>0.036110</td>\n",
       "      <td>0.064698</td>\n",
       "      <td>0.043240</td>\n",
       "    </tr>\n",
       "    <tr>\n",
       "      <th>13</th>\n",
       "      <td>TriTraining (NB)</td>\n",
       "      <td>abalone</td>\n",
       "      <td>0.2</td>\n",
       "      <td>0.056740</td>\n",
       "      <td>0.061495</td>\n",
       "      <td>0.055394</td>\n",
       "      <td>0.046118</td>\n",
       "    </tr>\n",
       "    <tr>\n",
       "      <th>14</th>\n",
       "      <td>TriTraining (NB)</td>\n",
       "      <td>abalone</td>\n",
       "      <td>0.3</td>\n",
       "      <td>0.063414</td>\n",
       "      <td>0.064562</td>\n",
       "      <td>0.051646</td>\n",
       "      <td>0.051901</td>\n",
       "    </tr>\n",
       "    <tr>\n",
       "      <th>15</th>\n",
       "      <td>TriTraining (NB)</td>\n",
       "      <td>abalone</td>\n",
       "      <td>0.4</td>\n",
       "      <td>0.078755</td>\n",
       "      <td>0.065267</td>\n",
       "      <td>0.062252</td>\n",
       "      <td>0.051021</td>\n",
       "    </tr>\n",
       "    <tr>\n",
       "      <th>16</th>\n",
       "      <td>TriTraining (CART)</td>\n",
       "      <td>dermatology</td>\n",
       "      <td>0.1</td>\n",
       "      <td>0.767042</td>\n",
       "      <td>0.119685</td>\n",
       "      <td>0.794259</td>\n",
       "      <td>0.068619</td>\n",
       "    </tr>\n",
       "    <tr>\n",
       "      <th>17</th>\n",
       "      <td>TriTraining (CART)</td>\n",
       "      <td>dermatology</td>\n",
       "      <td>0.2</td>\n",
       "      <td>0.860811</td>\n",
       "      <td>0.071722</td>\n",
       "      <td>0.895949</td>\n",
       "      <td>0.029256</td>\n",
       "    </tr>\n",
       "    <tr>\n",
       "      <th>18</th>\n",
       "      <td>TriTraining (CART)</td>\n",
       "      <td>dermatology</td>\n",
       "      <td>0.3</td>\n",
       "      <td>0.901727</td>\n",
       "      <td>0.072470</td>\n",
       "      <td>0.915816</td>\n",
       "      <td>0.027210</td>\n",
       "    </tr>\n",
       "    <tr>\n",
       "      <th>19</th>\n",
       "      <td>TriTraining (CART)</td>\n",
       "      <td>dermatology</td>\n",
       "      <td>0.4</td>\n",
       "      <td>0.896171</td>\n",
       "      <td>0.078643</td>\n",
       "      <td>0.926552</td>\n",
       "      <td>0.021500</td>\n",
       "    </tr>\n",
       "    <tr>\n",
       "      <th>20</th>\n",
       "      <td>TriTraining (CART)</td>\n",
       "      <td>abalone</td>\n",
       "      <td>0.1</td>\n",
       "      <td>0.183867</td>\n",
       "      <td>0.049214</td>\n",
       "      <td>0.201253</td>\n",
       "      <td>0.007512</td>\n",
       "    </tr>\n",
       "    <tr>\n",
       "      <th>21</th>\n",
       "      <td>TriTraining (CART)</td>\n",
       "      <td>abalone</td>\n",
       "      <td>0.2</td>\n",
       "      <td>0.197975</td>\n",
       "      <td>0.057287</td>\n",
       "      <td>0.178398</td>\n",
       "      <td>0.060256</td>\n",
       "    </tr>\n",
       "    <tr>\n",
       "      <th>22</th>\n",
       "      <td>TriTraining (CART)</td>\n",
       "      <td>abalone</td>\n",
       "      <td>0.3</td>\n",
       "      <td>0.170664</td>\n",
       "      <td>0.070739</td>\n",
       "      <td>0.173144</td>\n",
       "      <td>0.058505</td>\n",
       "    </tr>\n",
       "    <tr>\n",
       "      <th>23</th>\n",
       "      <td>TriTraining (CART)</td>\n",
       "      <td>abalone</td>\n",
       "      <td>0.4</td>\n",
       "      <td>0.192958</td>\n",
       "      <td>0.049187</td>\n",
       "      <td>0.199486</td>\n",
       "      <td>0.011102</td>\n",
       "    </tr>\n",
       "    <tr>\n",
       "      <th>24</th>\n",
       "      <td>Self-Training (KNN)</td>\n",
       "      <td>dermatology</td>\n",
       "      <td>0.1</td>\n",
       "      <td>0.494670</td>\n",
       "      <td>0.053112</td>\n",
       "      <td>0.453488</td>\n",
       "      <td>0.036719</td>\n",
       "    </tr>\n",
       "    <tr>\n",
       "      <th>25</th>\n",
       "      <td>Self-Training (KNN)</td>\n",
       "      <td>dermatology</td>\n",
       "      <td>0.2</td>\n",
       "      <td>0.678003</td>\n",
       "      <td>0.086590</td>\n",
       "      <td>0.673888</td>\n",
       "      <td>0.027315</td>\n",
       "    </tr>\n",
       "    <tr>\n",
       "      <th>26</th>\n",
       "      <td>Self-Training (KNN)</td>\n",
       "      <td>dermatology</td>\n",
       "      <td>0.3</td>\n",
       "      <td>0.724324</td>\n",
       "      <td>0.072453</td>\n",
       "      <td>0.732635</td>\n",
       "      <td>0.025003</td>\n",
       "    </tr>\n",
       "    <tr>\n",
       "      <th>27</th>\n",
       "      <td>Self-Training (KNN)</td>\n",
       "      <td>dermatology</td>\n",
       "      <td>0.4</td>\n",
       "      <td>0.765165</td>\n",
       "      <td>0.073864</td>\n",
       "      <td>0.796865</td>\n",
       "      <td>0.032399</td>\n",
       "    </tr>\n",
       "    <tr>\n",
       "      <th>28</th>\n",
       "      <td>Self-Training (KNN)</td>\n",
       "      <td>abalone</td>\n",
       "      <td>0.1</td>\n",
       "      <td>0.215711</td>\n",
       "      <td>0.063134</td>\n",
       "      <td>0.217480</td>\n",
       "      <td>0.009506</td>\n",
       "    </tr>\n",
       "    <tr>\n",
       "      <th>29</th>\n",
       "      <td>Self-Training (KNN)</td>\n",
       "      <td>abalone</td>\n",
       "      <td>0.2</td>\n",
       "      <td>0.210680</td>\n",
       "      <td>0.063786</td>\n",
       "      <td>0.216107</td>\n",
       "      <td>0.008401</td>\n",
       "    </tr>\n",
       "    <tr>\n",
       "      <th>30</th>\n",
       "      <td>Self-Training (KNN)</td>\n",
       "      <td>abalone</td>\n",
       "      <td>0.3</td>\n",
       "      <td>0.209482</td>\n",
       "      <td>0.056126</td>\n",
       "      <td>0.213241</td>\n",
       "      <td>0.009116</td>\n",
       "    </tr>\n",
       "    <tr>\n",
       "      <th>31</th>\n",
       "      <td>Self-Training (KNN)</td>\n",
       "      <td>abalone</td>\n",
       "      <td>0.4</td>\n",
       "      <td>0.202054</td>\n",
       "      <td>0.058924</td>\n",
       "      <td>0.205958</td>\n",
       "      <td>0.010749</td>\n",
       "    </tr>\n",
       "    <tr>\n",
       "      <th>32</th>\n",
       "      <td>Self-Training (NB)</td>\n",
       "      <td>dermatology</td>\n",
       "      <td>0.1</td>\n",
       "      <td>0.285060</td>\n",
       "      <td>0.081652</td>\n",
       "      <td>0.260744</td>\n",
       "      <td>0.054078</td>\n",
       "    </tr>\n",
       "    <tr>\n",
       "      <th>33</th>\n",
       "      <td>Self-Training (NB)</td>\n",
       "      <td>dermatology</td>\n",
       "      <td>0.2</td>\n",
       "      <td>0.196396</td>\n",
       "      <td>0.069305</td>\n",
       "      <td>0.194363</td>\n",
       "      <td>0.012955</td>\n",
       "    </tr>\n",
       "    <tr>\n",
       "      <th>34</th>\n",
       "      <td>Self-Training (NB)</td>\n",
       "      <td>dermatology</td>\n",
       "      <td>0.3</td>\n",
       "      <td>0.196396</td>\n",
       "      <td>0.069305</td>\n",
       "      <td>0.215726</td>\n",
       "      <td>0.040900</td>\n",
       "    </tr>\n",
       "    <tr>\n",
       "      <th>35</th>\n",
       "      <td>Self-Training (NB)</td>\n",
       "      <td>dermatology</td>\n",
       "      <td>0.4</td>\n",
       "      <td>0.196396</td>\n",
       "      <td>0.069305</td>\n",
       "      <td>0.223930</td>\n",
       "      <td>0.035261</td>\n",
       "    </tr>\n",
       "    <tr>\n",
       "      <th>36</th>\n",
       "      <td>Self-Training (NB)</td>\n",
       "      <td>abalone</td>\n",
       "      <td>0.1</td>\n",
       "      <td>0.080430</td>\n",
       "      <td>0.027688</td>\n",
       "      <td>0.076111</td>\n",
       "      <td>0.017747</td>\n",
       "    </tr>\n",
       "    <tr>\n",
       "      <th>37</th>\n",
       "      <td>Self-Training (NB)</td>\n",
       "      <td>abalone</td>\n",
       "      <td>0.2</td>\n",
       "      <td>0.085939</td>\n",
       "      <td>0.034251</td>\n",
       "      <td>0.082600</td>\n",
       "      <td>0.011560</td>\n",
       "    </tr>\n",
       "    <tr>\n",
       "      <th>38</th>\n",
       "      <td>Self-Training (NB)</td>\n",
       "      <td>abalone</td>\n",
       "      <td>0.3</td>\n",
       "      <td>0.070136</td>\n",
       "      <td>0.027342</td>\n",
       "      <td>0.076694</td>\n",
       "      <td>0.016192</td>\n",
       "    </tr>\n",
       "    <tr>\n",
       "      <th>39</th>\n",
       "      <td>Self-Training (NB)</td>\n",
       "      <td>abalone</td>\n",
       "      <td>0.4</td>\n",
       "      <td>0.067502</td>\n",
       "      <td>0.027958</td>\n",
       "      <td>0.067753</td>\n",
       "      <td>0.013520</td>\n",
       "    </tr>\n",
       "    <tr>\n",
       "      <th>40</th>\n",
       "      <td>Self-Training (CART)</td>\n",
       "      <td>dermatology</td>\n",
       "      <td>0.1</td>\n",
       "      <td>0.788889</td>\n",
       "      <td>0.123208</td>\n",
       "      <td>0.805061</td>\n",
       "      <td>0.068278</td>\n",
       "    </tr>\n",
       "    <tr>\n",
       "      <th>41</th>\n",
       "      <td>Self-Training (CART)</td>\n",
       "      <td>dermatology</td>\n",
       "      <td>0.2</td>\n",
       "      <td>0.882658</td>\n",
       "      <td>0.094648</td>\n",
       "      <td>0.900940</td>\n",
       "      <td>0.032633</td>\n",
       "    </tr>\n",
       "    <tr>\n",
       "      <th>42</th>\n",
       "      <td>Self-Training (CART)</td>\n",
       "      <td>dermatology</td>\n",
       "      <td>0.3</td>\n",
       "      <td>0.882658</td>\n",
       "      <td>0.074047</td>\n",
       "      <td>0.906704</td>\n",
       "      <td>0.028222</td>\n",
       "    </tr>\n",
       "    <tr>\n",
       "      <th>43</th>\n",
       "      <td>Self-Training (CART)</td>\n",
       "      <td>dermatology</td>\n",
       "      <td>0.4</td>\n",
       "      <td>0.915240</td>\n",
       "      <td>0.064454</td>\n",
       "      <td>0.933151</td>\n",
       "      <td>0.021025</td>\n",
       "    </tr>\n",
       "    <tr>\n",
       "      <th>44</th>\n",
       "      <td>Self-Training (CART)</td>\n",
       "      <td>abalone</td>\n",
       "      <td>0.1</td>\n",
       "      <td>0.182905</td>\n",
       "      <td>0.054273</td>\n",
       "      <td>0.199156</td>\n",
       "      <td>0.009199</td>\n",
       "    </tr>\n",
       "    <tr>\n",
       "      <th>45</th>\n",
       "      <td>Self-Training (CART)</td>\n",
       "      <td>abalone</td>\n",
       "      <td>0.2</td>\n",
       "      <td>0.197023</td>\n",
       "      <td>0.055371</td>\n",
       "      <td>0.202940</td>\n",
       "      <td>0.012675</td>\n",
       "    </tr>\n",
       "    <tr>\n",
       "      <th>46</th>\n",
       "      <td>Self-Training (CART)</td>\n",
       "      <td>abalone</td>\n",
       "      <td>0.3</td>\n",
       "      <td>0.190086</td>\n",
       "      <td>0.043549</td>\n",
       "      <td>0.200358</td>\n",
       "      <td>0.018080</td>\n",
       "    </tr>\n",
       "    <tr>\n",
       "      <th>47</th>\n",
       "      <td>Self-Training (CART)</td>\n",
       "      <td>abalone</td>\n",
       "      <td>0.4</td>\n",
       "      <td>0.199186</td>\n",
       "      <td>0.051497</td>\n",
       "      <td>0.197537</td>\n",
       "      <td>0.014328</td>\n",
       "    </tr>\n",
       "  </tbody>\n",
       "</table>\n",
       "</div>"
      ],
      "text/plain": [
       "              classifier      dataset  labeling_rate  test_mean  test_std  \\\n",
       "0      TriTraining (KNN)  dermatology            0.1   0.480781  0.052778   \n",
       "1      TriTraining (KNN)  dermatology            0.2   0.647748  0.070364   \n",
       "2      TriTraining (KNN)  dermatology            0.3   0.737913  0.080060   \n",
       "3      TriTraining (KNN)  dermatology            0.4   0.784234  0.080520   \n",
       "4      TriTraining (KNN)      abalone            0.1   0.175739  0.084579   \n",
       "5      TriTraining (KNN)      abalone            0.2   0.114168  0.103320   \n",
       "6      TriTraining (KNN)      abalone            0.3   0.194894  0.057701   \n",
       "7      TriTraining (KNN)      abalone            0.4   0.176231  0.079328   \n",
       "8       TriTraining (NB)  dermatology            0.1   0.364264  0.188874   \n",
       "9       TriTraining (NB)  dermatology            0.2   0.171847  0.099674   \n",
       "10      TriTraining (NB)  dermatology            0.3   0.169294  0.091715   \n",
       "11      TriTraining (NB)  dermatology            0.4   0.157282  0.114904   \n",
       "12      TriTraining (NB)      abalone            0.1   0.093609  0.036110   \n",
       "13      TriTraining (NB)      abalone            0.2   0.056740  0.061495   \n",
       "14      TriTraining (NB)      abalone            0.3   0.063414  0.064562   \n",
       "15      TriTraining (NB)      abalone            0.4   0.078755  0.065267   \n",
       "16    TriTraining (CART)  dermatology            0.1   0.767042  0.119685   \n",
       "17    TriTraining (CART)  dermatology            0.2   0.860811  0.071722   \n",
       "18    TriTraining (CART)  dermatology            0.3   0.901727  0.072470   \n",
       "19    TriTraining (CART)  dermatology            0.4   0.896171  0.078643   \n",
       "20    TriTraining (CART)      abalone            0.1   0.183867  0.049214   \n",
       "21    TriTraining (CART)      abalone            0.2   0.197975  0.057287   \n",
       "22    TriTraining (CART)      abalone            0.3   0.170664  0.070739   \n",
       "23    TriTraining (CART)      abalone            0.4   0.192958  0.049187   \n",
       "24   Self-Training (KNN)  dermatology            0.1   0.494670  0.053112   \n",
       "25   Self-Training (KNN)  dermatology            0.2   0.678003  0.086590   \n",
       "26   Self-Training (KNN)  dermatology            0.3   0.724324  0.072453   \n",
       "27   Self-Training (KNN)  dermatology            0.4   0.765165  0.073864   \n",
       "28   Self-Training (KNN)      abalone            0.1   0.215711  0.063134   \n",
       "29   Self-Training (KNN)      abalone            0.2   0.210680  0.063786   \n",
       "30   Self-Training (KNN)      abalone            0.3   0.209482  0.056126   \n",
       "31   Self-Training (KNN)      abalone            0.4   0.202054  0.058924   \n",
       "32    Self-Training (NB)  dermatology            0.1   0.285060  0.081652   \n",
       "33    Self-Training (NB)  dermatology            0.2   0.196396  0.069305   \n",
       "34    Self-Training (NB)  dermatology            0.3   0.196396  0.069305   \n",
       "35    Self-Training (NB)  dermatology            0.4   0.196396  0.069305   \n",
       "36    Self-Training (NB)      abalone            0.1   0.080430  0.027688   \n",
       "37    Self-Training (NB)      abalone            0.2   0.085939  0.034251   \n",
       "38    Self-Training (NB)      abalone            0.3   0.070136  0.027342   \n",
       "39    Self-Training (NB)      abalone            0.4   0.067502  0.027958   \n",
       "40  Self-Training (CART)  dermatology            0.1   0.788889  0.123208   \n",
       "41  Self-Training (CART)  dermatology            0.2   0.882658  0.094648   \n",
       "42  Self-Training (CART)  dermatology            0.3   0.882658  0.074047   \n",
       "43  Self-Training (CART)  dermatology            0.4   0.915240  0.064454   \n",
       "44  Self-Training (CART)      abalone            0.1   0.182905  0.054273   \n",
       "45  Self-Training (CART)      abalone            0.2   0.197023  0.055371   \n",
       "46  Self-Training (CART)      abalone            0.3   0.190086  0.043549   \n",
       "47  Self-Training (CART)      abalone            0.4   0.199186  0.051497   \n",
       "\n",
       "    trans_mean  trans_std  \n",
       "0     0.453492   0.045858  \n",
       "1     0.664780   0.020741  \n",
       "2     0.740439   0.019958  \n",
       "3     0.799390   0.025973  \n",
       "4     0.189192   0.063644  \n",
       "5     0.144376   0.094710  \n",
       "6     0.182568   0.061844  \n",
       "7     0.166234   0.083732  \n",
       "8     0.363607   0.233967  \n",
       "9     0.169632   0.067516  \n",
       "10    0.207039   0.084214  \n",
       "11    0.222007   0.087498  \n",
       "12    0.064698   0.043240  \n",
       "13    0.055394   0.046118  \n",
       "14    0.051646   0.051901  \n",
       "15    0.062252   0.051021  \n",
       "16    0.794259   0.068619  \n",
       "17    0.895949   0.029256  \n",
       "18    0.915816   0.027210  \n",
       "19    0.926552   0.021500  \n",
       "20    0.201253   0.007512  \n",
       "21    0.178398   0.060256  \n",
       "22    0.173144   0.058505  \n",
       "23    0.199486   0.011102  \n",
       "24    0.453488   0.036719  \n",
       "25    0.673888   0.027315  \n",
       "26    0.732635   0.025003  \n",
       "27    0.796865   0.032399  \n",
       "28    0.217480   0.009506  \n",
       "29    0.216107   0.008401  \n",
       "30    0.213241   0.009116  \n",
       "31    0.205958   0.010749  \n",
       "32    0.260744   0.054078  \n",
       "33    0.194363   0.012955  \n",
       "34    0.215726   0.040900  \n",
       "35    0.223930   0.035261  \n",
       "36    0.076111   0.017747  \n",
       "37    0.082600   0.011560  \n",
       "38    0.076694   0.016192  \n",
       "39    0.067753   0.013520  \n",
       "40    0.805061   0.068278  \n",
       "41    0.900940   0.032633  \n",
       "42    0.906704   0.028222  \n",
       "43    0.933151   0.021025  \n",
       "44    0.199156   0.009199  \n",
       "45    0.202940   0.012675  \n",
       "46    0.200358   0.018080  \n",
       "47    0.197537   0.014328  "
      ]
     },
     "execution_count": 7,
     "metadata": {},
     "output_type": "execute_result"
    }
   ],
   "source": [
    "results"
   ]
  },
  {
   "cell_type": "code",
   "execution_count": 8,
   "metadata": {
    "collapsed": false
   },
   "outputs": [
    {
     "data": {
      "text/html": [
       "<div>\n",
       "<table border=\"1\" class=\"dataframe\">\n",
       "  <thead>\n",
       "    <tr>\n",
       "      <th></th>\n",
       "      <th></th>\n",
       "      <th colspan=\"4\" halign=\"left\">test_mean</th>\n",
       "      <th colspan=\"4\" halign=\"left\">test_std</th>\n",
       "      <th colspan=\"4\" halign=\"left\">trans_mean</th>\n",
       "      <th colspan=\"4\" halign=\"left\">trans_std</th>\n",
       "    </tr>\n",
       "    <tr>\n",
       "      <th></th>\n",
       "      <th>labeling_rate</th>\n",
       "      <th>0.1</th>\n",
       "      <th>0.2</th>\n",
       "      <th>0.3</th>\n",
       "      <th>0.4</th>\n",
       "      <th>0.1</th>\n",
       "      <th>0.2</th>\n",
       "      <th>0.3</th>\n",
       "      <th>0.4</th>\n",
       "      <th>0.1</th>\n",
       "      <th>0.2</th>\n",
       "      <th>0.3</th>\n",
       "      <th>0.4</th>\n",
       "      <th>0.1</th>\n",
       "      <th>0.2</th>\n",
       "      <th>0.3</th>\n",
       "      <th>0.4</th>\n",
       "    </tr>\n",
       "    <tr>\n",
       "      <th>dataset</th>\n",
       "      <th>classifier</th>\n",
       "      <th></th>\n",
       "      <th></th>\n",
       "      <th></th>\n",
       "      <th></th>\n",
       "      <th></th>\n",
       "      <th></th>\n",
       "      <th></th>\n",
       "      <th></th>\n",
       "      <th></th>\n",
       "      <th></th>\n",
       "      <th></th>\n",
       "      <th></th>\n",
       "      <th></th>\n",
       "      <th></th>\n",
       "      <th></th>\n",
       "      <th></th>\n",
       "    </tr>\n",
       "  </thead>\n",
       "  <tbody>\n",
       "    <tr>\n",
       "      <th rowspan=\"6\" valign=\"top\">abalone</th>\n",
       "      <th>Self-Training (CART)</th>\n",
       "      <td>0.182905</td>\n",
       "      <td>0.197023</td>\n",
       "      <td>0.190086</td>\n",
       "      <td>0.199186</td>\n",
       "      <td>0.054273</td>\n",
       "      <td>0.055371</td>\n",
       "      <td>0.043549</td>\n",
       "      <td>0.051497</td>\n",
       "      <td>0.199156</td>\n",
       "      <td>0.202940</td>\n",
       "      <td>0.200358</td>\n",
       "      <td>0.197537</td>\n",
       "      <td>0.009199</td>\n",
       "      <td>0.012675</td>\n",
       "      <td>0.018080</td>\n",
       "      <td>0.014328</td>\n",
       "    </tr>\n",
       "    <tr>\n",
       "      <th>Self-Training (KNN)</th>\n",
       "      <td>0.215711</td>\n",
       "      <td>0.210680</td>\n",
       "      <td>0.209482</td>\n",
       "      <td>0.202054</td>\n",
       "      <td>0.063134</td>\n",
       "      <td>0.063786</td>\n",
       "      <td>0.056126</td>\n",
       "      <td>0.058924</td>\n",
       "      <td>0.217480</td>\n",
       "      <td>0.216107</td>\n",
       "      <td>0.213241</td>\n",
       "      <td>0.205958</td>\n",
       "      <td>0.009506</td>\n",
       "      <td>0.008401</td>\n",
       "      <td>0.009116</td>\n",
       "      <td>0.010749</td>\n",
       "    </tr>\n",
       "    <tr>\n",
       "      <th>Self-Training (NB)</th>\n",
       "      <td>0.080430</td>\n",
       "      <td>0.085939</td>\n",
       "      <td>0.070136</td>\n",
       "      <td>0.067502</td>\n",
       "      <td>0.027688</td>\n",
       "      <td>0.034251</td>\n",
       "      <td>0.027342</td>\n",
       "      <td>0.027958</td>\n",
       "      <td>0.076111</td>\n",
       "      <td>0.082600</td>\n",
       "      <td>0.076694</td>\n",
       "      <td>0.067753</td>\n",
       "      <td>0.017747</td>\n",
       "      <td>0.011560</td>\n",
       "      <td>0.016192</td>\n",
       "      <td>0.013520</td>\n",
       "    </tr>\n",
       "    <tr>\n",
       "      <th>TriTraining (CART)</th>\n",
       "      <td>0.183867</td>\n",
       "      <td>0.197975</td>\n",
       "      <td>0.170664</td>\n",
       "      <td>0.192958</td>\n",
       "      <td>0.049214</td>\n",
       "      <td>0.057287</td>\n",
       "      <td>0.070739</td>\n",
       "      <td>0.049187</td>\n",
       "      <td>0.201253</td>\n",
       "      <td>0.178398</td>\n",
       "      <td>0.173144</td>\n",
       "      <td>0.199486</td>\n",
       "      <td>0.007512</td>\n",
       "      <td>0.060256</td>\n",
       "      <td>0.058505</td>\n",
       "      <td>0.011102</td>\n",
       "    </tr>\n",
       "    <tr>\n",
       "      <th>TriTraining (KNN)</th>\n",
       "      <td>0.175739</td>\n",
       "      <td>0.114168</td>\n",
       "      <td>0.194894</td>\n",
       "      <td>0.176231</td>\n",
       "      <td>0.084579</td>\n",
       "      <td>0.103320</td>\n",
       "      <td>0.057701</td>\n",
       "      <td>0.079328</td>\n",
       "      <td>0.189192</td>\n",
       "      <td>0.144376</td>\n",
       "      <td>0.182568</td>\n",
       "      <td>0.166234</td>\n",
       "      <td>0.063644</td>\n",
       "      <td>0.094710</td>\n",
       "      <td>0.061844</td>\n",
       "      <td>0.083732</td>\n",
       "    </tr>\n",
       "    <tr>\n",
       "      <th>TriTraining (NB)</th>\n",
       "      <td>0.093609</td>\n",
       "      <td>0.056740</td>\n",
       "      <td>0.063414</td>\n",
       "      <td>0.078755</td>\n",
       "      <td>0.036110</td>\n",
       "      <td>0.061495</td>\n",
       "      <td>0.064562</td>\n",
       "      <td>0.065267</td>\n",
       "      <td>0.064698</td>\n",
       "      <td>0.055394</td>\n",
       "      <td>0.051646</td>\n",
       "      <td>0.062252</td>\n",
       "      <td>0.043240</td>\n",
       "      <td>0.046118</td>\n",
       "      <td>0.051901</td>\n",
       "      <td>0.051021</td>\n",
       "    </tr>\n",
       "    <tr>\n",
       "      <th rowspan=\"6\" valign=\"top\">dermatology</th>\n",
       "      <th>Self-Training (CART)</th>\n",
       "      <td>0.788889</td>\n",
       "      <td>0.882658</td>\n",
       "      <td>0.882658</td>\n",
       "      <td>0.915240</td>\n",
       "      <td>0.123208</td>\n",
       "      <td>0.094648</td>\n",
       "      <td>0.074047</td>\n",
       "      <td>0.064454</td>\n",
       "      <td>0.805061</td>\n",
       "      <td>0.900940</td>\n",
       "      <td>0.906704</td>\n",
       "      <td>0.933151</td>\n",
       "      <td>0.068278</td>\n",
       "      <td>0.032633</td>\n",
       "      <td>0.028222</td>\n",
       "      <td>0.021025</td>\n",
       "    </tr>\n",
       "    <tr>\n",
       "      <th>Self-Training (KNN)</th>\n",
       "      <td>0.494670</td>\n",
       "      <td>0.678003</td>\n",
       "      <td>0.724324</td>\n",
       "      <td>0.765165</td>\n",
       "      <td>0.053112</td>\n",
       "      <td>0.086590</td>\n",
       "      <td>0.072453</td>\n",
       "      <td>0.073864</td>\n",
       "      <td>0.453488</td>\n",
       "      <td>0.673888</td>\n",
       "      <td>0.732635</td>\n",
       "      <td>0.796865</td>\n",
       "      <td>0.036719</td>\n",
       "      <td>0.027315</td>\n",
       "      <td>0.025003</td>\n",
       "      <td>0.032399</td>\n",
       "    </tr>\n",
       "    <tr>\n",
       "      <th>Self-Training (NB)</th>\n",
       "      <td>0.285060</td>\n",
       "      <td>0.196396</td>\n",
       "      <td>0.196396</td>\n",
       "      <td>0.196396</td>\n",
       "      <td>0.081652</td>\n",
       "      <td>0.069305</td>\n",
       "      <td>0.069305</td>\n",
       "      <td>0.069305</td>\n",
       "      <td>0.260744</td>\n",
       "      <td>0.194363</td>\n",
       "      <td>0.215726</td>\n",
       "      <td>0.223930</td>\n",
       "      <td>0.054078</td>\n",
       "      <td>0.012955</td>\n",
       "      <td>0.040900</td>\n",
       "      <td>0.035261</td>\n",
       "    </tr>\n",
       "    <tr>\n",
       "      <th>TriTraining (CART)</th>\n",
       "      <td>0.767042</td>\n",
       "      <td>0.860811</td>\n",
       "      <td>0.901727</td>\n",
       "      <td>0.896171</td>\n",
       "      <td>0.119685</td>\n",
       "      <td>0.071722</td>\n",
       "      <td>0.072470</td>\n",
       "      <td>0.078643</td>\n",
       "      <td>0.794259</td>\n",
       "      <td>0.895949</td>\n",
       "      <td>0.915816</td>\n",
       "      <td>0.926552</td>\n",
       "      <td>0.068619</td>\n",
       "      <td>0.029256</td>\n",
       "      <td>0.027210</td>\n",
       "      <td>0.021500</td>\n",
       "    </tr>\n",
       "    <tr>\n",
       "      <th>TriTraining (KNN)</th>\n",
       "      <td>0.480781</td>\n",
       "      <td>0.647748</td>\n",
       "      <td>0.737913</td>\n",
       "      <td>0.784234</td>\n",
       "      <td>0.052778</td>\n",
       "      <td>0.070364</td>\n",
       "      <td>0.080060</td>\n",
       "      <td>0.080520</td>\n",
       "      <td>0.453492</td>\n",
       "      <td>0.664780</td>\n",
       "      <td>0.740439</td>\n",
       "      <td>0.799390</td>\n",
       "      <td>0.045858</td>\n",
       "      <td>0.020741</td>\n",
       "      <td>0.019958</td>\n",
       "      <td>0.025973</td>\n",
       "    </tr>\n",
       "    <tr>\n",
       "      <th>TriTraining (NB)</th>\n",
       "      <td>0.364264</td>\n",
       "      <td>0.171847</td>\n",
       "      <td>0.169294</td>\n",
       "      <td>0.157282</td>\n",
       "      <td>0.188874</td>\n",
       "      <td>0.099674</td>\n",
       "      <td>0.091715</td>\n",
       "      <td>0.114904</td>\n",
       "      <td>0.363607</td>\n",
       "      <td>0.169632</td>\n",
       "      <td>0.207039</td>\n",
       "      <td>0.222007</td>\n",
       "      <td>0.233967</td>\n",
       "      <td>0.067516</td>\n",
       "      <td>0.084214</td>\n",
       "      <td>0.087498</td>\n",
       "    </tr>\n",
       "  </tbody>\n",
       "</table>\n",
       "</div>"
      ],
      "text/plain": [
       "                                 test_mean                                \\\n",
       "labeling_rate                          0.1       0.2       0.3       0.4   \n",
       "dataset     classifier                                                     \n",
       "abalone     Self-Training (CART)  0.182905  0.197023  0.190086  0.199186   \n",
       "            Self-Training (KNN)   0.215711  0.210680  0.209482  0.202054   \n",
       "            Self-Training (NB)    0.080430  0.085939  0.070136  0.067502   \n",
       "            TriTraining (CART)    0.183867  0.197975  0.170664  0.192958   \n",
       "            TriTraining (KNN)     0.175739  0.114168  0.194894  0.176231   \n",
       "            TriTraining (NB)      0.093609  0.056740  0.063414  0.078755   \n",
       "dermatology Self-Training (CART)  0.788889  0.882658  0.882658  0.915240   \n",
       "            Self-Training (KNN)   0.494670  0.678003  0.724324  0.765165   \n",
       "            Self-Training (NB)    0.285060  0.196396  0.196396  0.196396   \n",
       "            TriTraining (CART)    0.767042  0.860811  0.901727  0.896171   \n",
       "            TriTraining (KNN)     0.480781  0.647748  0.737913  0.784234   \n",
       "            TriTraining (NB)      0.364264  0.171847  0.169294  0.157282   \n",
       "\n",
       "                                  test_std                                \\\n",
       "labeling_rate                          0.1       0.2       0.3       0.4   \n",
       "dataset     classifier                                                     \n",
       "abalone     Self-Training (CART)  0.054273  0.055371  0.043549  0.051497   \n",
       "            Self-Training (KNN)   0.063134  0.063786  0.056126  0.058924   \n",
       "            Self-Training (NB)    0.027688  0.034251  0.027342  0.027958   \n",
       "            TriTraining (CART)    0.049214  0.057287  0.070739  0.049187   \n",
       "            TriTraining (KNN)     0.084579  0.103320  0.057701  0.079328   \n",
       "            TriTraining (NB)      0.036110  0.061495  0.064562  0.065267   \n",
       "dermatology Self-Training (CART)  0.123208  0.094648  0.074047  0.064454   \n",
       "            Self-Training (KNN)   0.053112  0.086590  0.072453  0.073864   \n",
       "            Self-Training (NB)    0.081652  0.069305  0.069305  0.069305   \n",
       "            TriTraining (CART)    0.119685  0.071722  0.072470  0.078643   \n",
       "            TriTraining (KNN)     0.052778  0.070364  0.080060  0.080520   \n",
       "            TriTraining (NB)      0.188874  0.099674  0.091715  0.114904   \n",
       "\n",
       "                                 trans_mean                                \\\n",
       "labeling_rate                           0.1       0.2       0.3       0.4   \n",
       "dataset     classifier                                                      \n",
       "abalone     Self-Training (CART)   0.199156  0.202940  0.200358  0.197537   \n",
       "            Self-Training (KNN)    0.217480  0.216107  0.213241  0.205958   \n",
       "            Self-Training (NB)     0.076111  0.082600  0.076694  0.067753   \n",
       "            TriTraining (CART)     0.201253  0.178398  0.173144  0.199486   \n",
       "            TriTraining (KNN)      0.189192  0.144376  0.182568  0.166234   \n",
       "            TriTraining (NB)       0.064698  0.055394  0.051646  0.062252   \n",
       "dermatology Self-Training (CART)   0.805061  0.900940  0.906704  0.933151   \n",
       "            Self-Training (KNN)    0.453488  0.673888  0.732635  0.796865   \n",
       "            Self-Training (NB)     0.260744  0.194363  0.215726  0.223930   \n",
       "            TriTraining (CART)     0.794259  0.895949  0.915816  0.926552   \n",
       "            TriTraining (KNN)      0.453492  0.664780  0.740439  0.799390   \n",
       "            TriTraining (NB)       0.363607  0.169632  0.207039  0.222007   \n",
       "\n",
       "                                 trans_std                                \n",
       "labeling_rate                          0.1       0.2       0.3       0.4  \n",
       "dataset     classifier                                                    \n",
       "abalone     Self-Training (CART)  0.009199  0.012675  0.018080  0.014328  \n",
       "            Self-Training (KNN)   0.009506  0.008401  0.009116  0.010749  \n",
       "            Self-Training (NB)    0.017747  0.011560  0.016192  0.013520  \n",
       "            TriTraining (CART)    0.007512  0.060256  0.058505  0.011102  \n",
       "            TriTraining (KNN)     0.063644  0.094710  0.061844  0.083732  \n",
       "            TriTraining (NB)      0.043240  0.046118  0.051901  0.051021  \n",
       "dermatology Self-Training (CART)  0.068278  0.032633  0.028222  0.021025  \n",
       "            Self-Training (KNN)   0.036719  0.027315  0.025003  0.032399  \n",
       "            Self-Training (NB)    0.054078  0.012955  0.040900  0.035261  \n",
       "            TriTraining (CART)    0.068619  0.029256  0.027210  0.021500  \n",
       "            TriTraining (KNN)     0.045858  0.020741  0.019958  0.025973  \n",
       "            TriTraining (NB)      0.233967  0.067516  0.084214  0.087498  "
      ]
     },
     "execution_count": 8,
     "metadata": {},
     "output_type": "execute_result"
    }
   ],
   "source": [
    "pd.pivot_table(results, values=None, index=['dataset', 'classifier'], columns=['labeling_rate'])"
   ]
  }
 ],
 "metadata": {
  "kernelspec": {
   "display_name": "Python 3",
   "language": "python",
   "name": "python3"
  },
  "language_info": {
   "codemirror_mode": {
    "name": "ipython",
    "version": 3
   },
   "file_extension": ".py",
   "mimetype": "text/x-python",
   "name": "python",
   "nbconvert_exporter": "python",
   "pygments_lexer": "ipython3",
   "version": "3.5.2+"
  }
 },
 "nbformat": 4,
 "nbformat_minor": 2
}

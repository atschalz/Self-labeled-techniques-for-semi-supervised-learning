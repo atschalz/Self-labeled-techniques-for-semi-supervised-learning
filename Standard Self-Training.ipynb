{
 "cells": [
  {
   "cell_type": "code",
   "execution_count": 46,
   "metadata": {
    "collapsed": false
   },
   "outputs": [],
   "source": [
    "import pandas as pd\n",
    "from sklearn import neighbors\n",
    "from sklearn import svm"
   ]
  },
  {
   "cell_type": "code",
   "execution_count": 2,
   "metadata": {
    "collapsed": false,
    "scrolled": false
   },
   "outputs": [],
   "source": [
    "#Load Datasets\n",
    "def load_datasets(dataset_name):\n",
    "    path_to_datasets=\"../Datasets/\"\n",
    "    labeling_rate = 10\n",
    "    partial_path=\"{0}SSC_{1}labeled/{2}/{2}-{1}-1\".format(path_to_datasets,labeling_rate,dataset_name)\n",
    "    paths={\n",
    "        \"tra\":partial_path+\"tra.dat\",\n",
    "        \"trs\":partial_path+\"trs.dat\",\n",
    "        \"tst\":partial_path+\"tst.dat\"\n",
    "    }\n",
    "    dataframes = {\n",
    "        \"tra\":pd.read_csv(paths[\"tra\"], header=None, sep=\", \", engine=\"python\", comment=\"@\"),\n",
    "        \"trs\":pd.read_csv(paths[\"trs\"], header=None, sep=\", \", engine=\"python\", comment=\"@\"),\n",
    "        \"tst\":pd.read_csv(paths[\"tst\"], header=None, sep=\", \", engine=\"python\", comment=\"@\")\n",
    "    }\n",
    "    return dataframes"
   ]
  },
  {
   "cell_type": "code",
   "execution_count": 43,
   "metadata": {
    "collapsed": false
   },
   "outputs": [],
   "source": [
    "class StandardSelfTraining:\n",
    "    @staticmethod\n",
    "    def NN():\n",
    "        \"\"\"Create Standard Self-Training classifier with NN base classifier\"\"\"\n",
    "        base_clf = neighbors.KNeighborsClassifier(1, weights='uniform')\n",
    "        return StandardSelfTraining(base_clf)\n",
    "    \n",
    "    def __init__(self, base_classifier, max_iterations=40):\n",
    "        self.base_classifier = base_classifier\n",
    "        self.max_iterations = max_iterations\n",
    "    \n",
    "    def fit(self, X, y):\n",
    "        stable = False\n",
    "        iteration = 0;\n",
    "        print(\"Training: \",end=\"\")\n",
    "        #Iterate until the result is stable or max_iterations is reached\n",
    "        while not(stable) and (iteration < self.max_iterations):\n",
    "            new_y = self._fit_iteration(X, y)\n",
    "            #Check if the result has stabilised\n",
    "            stable = (y == new_y).all()\n",
    "            y = new_y\n",
    "            iteration += 1\n",
    "            \n",
    "    def _fit_iteration(self, X, y):\n",
    "        clf = self.base_classifier\n",
    "        #Fit a classifier on already labeled data\n",
    "        labeled = y != \"unlabeled\"\n",
    "        clf.fit(X[labeled], y[labeled])\n",
    "        #Predict on all the training data\n",
    "        return clf.predict(X)\n",
    "    \n",
    "    def predict(self, X):\n",
    "        return self.base_classifier.predict(X)\n",
    "    \n",
    "    def score(self, X, y):\n",
    "        return self.base_classifier.score(X, y)\n",
    "\n",
    "def train_and_score(clf, dataframes,categorical=[]):\n",
    "    training = dataframes[\"tra\"]\n",
    "    \n",
    "    \n",
    "    Xtra = training.iloc[:,:-1]\n",
    "    ytra = training.iloc[:, -1]\n",
    "    Xtra = pd.get_dummies(Xtra, columns = categorical )\n",
    "    clf.fit(Xtra, ytra)\n",
    "    transitive = dataframes[\"trs\"]\n",
    "    Xtrs = transitive.iloc[:,:-1]\n",
    "    ytrs = transitive.iloc[:, -1].astype(str)\n",
    "    Xtrs = pd.get_dummies(Xtrs, columns = categorical )\n",
    "    print(\"Training score:\", clf.score( Xtrs, ytrs))\n",
    "    testing = dataframes[\"tst\"]\n",
    "    Xtst = testing.iloc[:,:-1]\n",
    "    ytst = testing.iloc[:, -1].astype(str)\n",
    "    Xtst = pd.get_dummies(Xtst, columns = categorical )\n",
    "    print(\"Testing score:\", clf.score(Xtst, ytst))"
   ]
  },
  {
   "cell_type": "code",
   "execution_count": 47,
   "metadata": {
    "collapsed": false
   },
   "outputs": [
    {
     "name": "stdout",
     "output_type": "stream",
     "text": [
      "## Classifier: <__main__.StandardSelfTraining object at 0x7f0c64a807b8>\n",
      "dataset: bupa\n",
      "Training: Training score: 0.635483870968\n",
      "Testing score: 0.514285714286\n",
      "dataset: abalone\n",
      "Training: Training score: 0.273285294903\n",
      "Testing score: 0.193779904306\n",
      "## Classifier: <__main__.StandardSelfTraining object at 0x7f0c64a80828>\n",
      "dataset: bupa\n",
      "Training: Training score: 0.61935483871\n",
      "Testing score: 0.571428571429\n",
      "dataset: abalone\n",
      "Training: Training score: 0.199893247932\n",
      "Testing score: 0.198564593301\n"
     ]
    }
   ],
   "source": [
    "classifiers = [\n",
    "    StandardSelfTraining.NN(),\n",
    "    StandardSelfTraining(svm.SVC())\n",
    "]\n",
    "dataset_names = [\"bupa\", \"abalone\"]\n",
    "categorical_columns = [[], [0]]\n",
    "for classifier in classifiers:\n",
    "    print(\"## Classifier:\", classifier)\n",
    "    for dataset_name, categorical in zip(dataset_names, categorical_columns):\n",
    "        print(\"dataset:\", dataset_name)\n",
    "        dataframes = load_datasets(dataset_name)          \n",
    "        train_and_score(classifier, dataframes, categorical=categorical)\n"
   ]
  },
  {
   "cell_type": "code",
   "execution_count": null,
   "metadata": {
    "collapsed": true
   },
   "outputs": [],
   "source": []
  }
 ],
 "metadata": {
  "kernelspec": {
   "display_name": "Python 3",
   "language": "python",
   "name": "python3"
  },
  "language_info": {
   "codemirror_mode": {
    "name": "ipython",
    "version": 3
   },
   "file_extension": ".py",
   "mimetype": "text/x-python",
   "name": "python",
   "nbconvert_exporter": "python",
   "pygments_lexer": "ipython3",
   "version": "3.5.2+"
  }
 },
 "nbformat": 4,
 "nbformat_minor": 2
}

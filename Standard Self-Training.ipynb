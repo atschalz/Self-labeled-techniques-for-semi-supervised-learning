{
 "cells": [
  {
   "cell_type": "code",
   "execution_count": 1,
   "metadata": {
    "collapsed": false
   },
   "outputs": [],
   "source": [
    "import pandas as pd\n",
    "from sklearn import neighbors\n",
    "from sklearn import svm"
   ]
  },
  {
   "cell_type": "code",
   "execution_count": 2,
   "metadata": {
    "collapsed": false,
    "scrolled": false
   },
   "outputs": [],
   "source": [
    "#Load Datasets\n",
    "def load_datasets(dataset_name):\n",
    "    path_to_datasets=\"../Datasets/\"\n",
    "    labeling_rate = 10\n",
    "    partial_path=\"{0}SSC_{1}labeled/{2}/{2}-{1}-1\".format(path_to_datasets,labeling_rate,dataset_name)\n",
    "    paths={\n",
    "        \"tra\":partial_path+\"tra.dat\",\n",
    "        \"trs\":partial_path+\"trs.dat\",\n",
    "        \"tst\":partial_path+\"tst.dat\"\n",
    "    }\n",
    "    dataframes = {\n",
    "        \"tra\":pd.read_csv(paths[\"tra\"], header=None, sep=\", \", engine=\"python\", comment=\"@\"),\n",
    "        \"trs\":pd.read_csv(paths[\"trs\"], header=None, sep=\", \", engine=\"python\", comment=\"@\"),\n",
    "        \"tst\":pd.read_csv(paths[\"tst\"], header=None, sep=\", \", engine=\"python\", comment=\"@\")\n",
    "    }\n",
    "    return dataframes"
   ]
  },
  {
   "cell_type": "code",
   "execution_count": 3,
   "metadata": {
    "collapsed": false
   },
   "outputs": [],
   "source": [
    "class StandardSelfTraining:\n",
    "    @staticmethod\n",
    "    def NN():\n",
    "        \"\"\"\n",
    "        Create Standard Self-Training classifier with NN base classifier\"\"\"\n",
    "        base_clf = neighbors.KNeighborsClassifier(\n",
    "            n_neighbors=3,\n",
    "            metric=\"euclidean\",\n",
    "            n_jobs=2 #Parallelize work on CPUs\n",
    "        )\n",
    "        return StandardSelfTraining(\"KNN\", base_clf)\n",
    "    \n",
    "    def SMO():\n",
    "        \"\"\"\n",
    "        Create Standard Self-Training classifier with SVM base classifier\n",
    "        the SVM classifier has been trained using SMO algorithm\n",
    "        \"\"\"\n",
    "        base_clf = svm.SVC(\n",
    "            C=1.0,\n",
    "            kernel='poly',\n",
    "            degree=1,\n",
    "            tol=0.001,\n",
    "            #Epsilon parameter missing?\n",
    "        )\n",
    "        return StandardSelfTraining(\"SMO\", base_clf)\n",
    "        \n",
    "        \n",
    "    \n",
    "    def __init__(self, name, base_classifier, max_iterations=40):\n",
    "        self.name = name\n",
    "        self.base_classifier = base_classifier\n",
    "        self.max_iterations = max_iterations\n",
    "        \n",
    "    def __str__(self):\n",
    "        return \"Classifier: \" +self.name + \"\\nParameters: \" + str(self.base_classifier.get_params());\n",
    "    \n",
    "    def fit(self, X, y):\n",
    "        stable = False\n",
    "        iteration = 0;\n",
    "        #Iterate until the result is stable or max_iterations is reached\n",
    "        while not(stable) and (iteration < self.max_iterations):\n",
    "            new_y = self._fit_iteration(X, y)\n",
    "            #Check if the result has stabilised\n",
    "            stable = (y == new_y).all()\n",
    "            y = new_y\n",
    "            iteration += 1\n",
    "            \n",
    "    def _fit_iteration(self, X, y):\n",
    "        clf = self.base_classifier\n",
    "        #Fit a classifier on already labeled data\n",
    "        labeled = y != \"unlabeled\"\n",
    "        clf.fit(X[labeled], y[labeled])\n",
    "        #Predict on all the training data\n",
    "        return clf.predict(X)\n",
    "    \n",
    "    def predict(self, X):\n",
    "        return self.base_classifier.predict(X)\n",
    "    \n",
    "    def score(self, X, y):\n",
    "        return self.base_classifier.score(X, y)\n",
    "\n",
    "def train_and_score(clf, dataframes,categorical=[]):\n",
    "    \"\"\"\n",
    "    Given a classifier and a datasets\n",
    "    Trains the classifier on training dataset\n",
    "    and scores the classifier on transitive and testing datasets\n",
    "    \"\"\"\n",
    "    training = dataframes[\"tra\"]\n",
    "    \n",
    "    Xtra = training.iloc[:,:-1]\n",
    "    ytra = training.iloc[:, -1]\n",
    "    Xtra = pd.get_dummies(Xtra, columns = categorical )\n",
    "    clf.fit(Xtra, ytra)\n",
    "    transitive = dataframes[\"trs\"]\n",
    "    Xtrs = transitive.iloc[:,:-1]\n",
    "    ytrs = transitive.iloc[:, -1].astype(str)\n",
    "    Xtrs = pd.get_dummies(Xtrs, columns = categorical )\n",
    "    print(\"Transitive score:\", clf.score( Xtrs, ytrs))\n",
    "    testing = dataframes[\"tst\"]\n",
    "    Xtst = testing.iloc[:,:-1]\n",
    "    ytst = testing.iloc[:, -1].astype(str)\n",
    "    Xtst = pd.get_dummies(Xtst, columns = categorical )\n",
    "    print(\"Testing score:\", clf.score(Xtst, ytst))"
   ]
  },
  {
   "cell_type": "code",
   "execution_count": 4,
   "metadata": {
    "collapsed": false
   },
   "outputs": [
    {
     "name": "stdout",
     "output_type": "stream",
     "text": [
      "#########################\n",
      "Classifier: KNN\n",
      "Parameters: {'leaf_size': 30, 'metric': 'euclidean', 'algorithm': 'auto', 'p': 2, 'n_neighbors': 3, 'metric_params': None, 'weights': 'uniform', 'n_jobs': 2}\n",
      "--------\n",
      "Results:\n",
      "dataset: bupa\n",
      "Transitive score: 0.616129032258\n",
      "Testing score: 0.6\n",
      "dataset: abalone\n",
      "Transitive score: 0.222044302108\n",
      "Testing score: 0.16985645933\n",
      "\n",
      "#########################\n",
      "Classifier: SMO\n",
      "Parameters: {'gamma': 'auto', 'class_weight': None, 'kernel': 'poly', 'verbose': False, 'degree': 1, 'probability': False, 'tol': 0.001, 'cache_size': 200, 'decision_function_shape': None, 'C': 1.0, 'random_state': None, 'shrinking': True, 'max_iter': -1, 'coef0': 0.0}\n",
      "--------\n",
      "Results:\n",
      "dataset: bupa\n",
      "Transitive score: 0.683870967742\n",
      "Testing score: 0.6\n",
      "dataset: abalone\n",
      "Transitive score: 0.191353082466\n",
      "Testing score: 0.188995215311\n",
      "\n"
     ]
    }
   ],
   "source": [
    "# All classifiers used for testing\n",
    "classifiers = [\n",
    "    StandardSelfTraining.NN(),\n",
    "    StandardSelfTraining.SMO()\n",
    "]\n",
    "# All datasets used for testing\n",
    "dataset_names = [\"bupa\", \"abalone\"]\n",
    "#Columns in datasets that are categorical and need o be replaced with hot-one\n",
    "categorical_columns = [[], [0]]\n",
    "for classifier in classifiers:\n",
    "    print(\"#########################\")\n",
    "    print(classifier)\n",
    "    print(\"--------\")\n",
    "    print(\"Results:\")\n",
    "    for dataset_name, categorical in zip(dataset_names, categorical_columns):\n",
    "        print(\"dataset:\", dataset_name)\n",
    "        dataframes = load_datasets(dataset_name)          \n",
    "        train_and_score(classifier, dataframes, categorical=categorical)\n",
    "    print()\n"
   ]
  },
  {
   "cell_type": "markdown",
   "metadata": {
    "collapsed": true
   },
   "source": [
    "Results reported in paper:\n",
    "     transitive | testing\n",
    "     \n",
    "KNN:\n",
    "bupa:    0.5471   0.5314\n",
    "abalone: 0.2223   0.1725\n",
    "\n",
    "SMO:\n",
    "bupa:    0.6089   0.6330\n",
    "abalone: 0.2174   0.2168\n"
   ]
  },
  {
   "cell_type": "code",
   "execution_count": null,
   "metadata": {
    "collapsed": true
   },
   "outputs": [],
   "source": []
  }
 ],
 "metadata": {
  "kernelspec": {
   "display_name": "Python 3",
   "language": "python",
   "name": "python3"
  },
  "language_info": {
   "codemirror_mode": {
    "name": "ipython",
    "version": 3
   },
   "file_extension": ".py",
   "mimetype": "text/x-python",
   "name": "python",
   "nbconvert_exporter": "python",
   "pygments_lexer": "ipython3",
   "version": "3.5.2+"
  }
 },
 "nbformat": 4,
 "nbformat_minor": 2
}

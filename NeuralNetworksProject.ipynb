{
 "cells": [
  {
   "cell_type": "markdown",
   "metadata": {},
   "source": [
    "# Neural Networks Project\n",
    "## Self-labeled techniques for semi-supervised learning\n",
    "<div style=\"text-align: right\">\n",
    "    Mark Laane <br />\n",
    "    Rome, 2017\n",
    "</div>"
   ]
  },
  {
   "cell_type": "markdown",
   "metadata": {},
   "source": [
    "### Introduction ###\n",
    "The aim of this project is to reimplement some techniques surveyed by Isaac Triguero et. al in paper [1] and to independently reproduce the reported results. A report of the project is also provided: [Project Report](Project Report Mark Laane.pdf)\n",
    "\n",
    "Two self-labeled techniques are chosen from the paper: Standard Self-Training and Tri-Training. Those techniques are used on Abalone and Dermatology datasets. For implementation, Python programming language was chosen along with Pandas and Sclearn libraries."
   ]
  },
  {
   "cell_type": "markdown",
   "metadata": {},
   "source": [
    "### Datasets ###\n",
    "Two standard datasets are used: Abalone and Dermatology. The datasets are loaded from mldata.org"
   ]
  },
  {
   "cell_type": "code",
   "execution_count": 1,
   "metadata": {
    "collapsed": true
   },
   "outputs": [],
   "source": [
    "#Datasets are stored in a python dictionary\n",
    "datasets = {}\n",
    "\n",
    "from sklearn.datasets import fetch_mldata\n",
    "from sklearn.pipeline import make_pipeline\n",
    "from sklearn.preprocessing import MinMaxScaler, OneHotEncoder\n",
    "\n",
    "# Fetch abalone dataset from mldata.org\n",
    "data = fetch_mldata(\"abalone\")\n",
    "# Preprocessing pipe for abalone dataset encodes categorical feature\n",
    "# and scales the features\n",
    "preprocessing_pipe = make_pipeline(\n",
    "    #OneHotEncoder on \"Sex\" feature\n",
    "    OneHotEncoder(categorical_features=[0], sparse=False),\n",
    "    #Scale all from 0 to 1\n",
    "    MinMaxScaler())\n",
    "# Apply preprocessing pipe to dataset and store the dataset in dict.\n",
    "datasets[\"abalone\"] = {\n",
    "    \"X\": preprocessing_pipe.fit_transform(data.data),\n",
    "    \"y\": data.target\n",
    "}"
   ]
  },
  {
   "cell_type": "code",
   "execution_count": 2,
   "metadata": {
    "collapsed": false
   },
   "outputs": [],
   "source": [
    "#Dermatology dataset is loaded from mldata.org and used as-is\n",
    "data = fetch_mldata(\"uci-20070111 dermatology\")\n",
    "datasets[\"dermatology\"] = {\n",
    "    \"X\": data.data[:,0:-1],\n",
    "    \"y\": data.data[:,-1]\n",
    "}"
   ]
  },
  {
   "cell_type": "markdown",
   "metadata": {},
   "source": [
    "### Base classifiers ###\n",
    "3 different base classifiers are used. The base classifiers are provided by Sklearn library. The classifiers are configured according to the parameters described in the paper."
   ]
  },
  {
   "cell_type": "code",
   "execution_count": 3,
   "metadata": {
    "collapsed": true
   },
   "outputs": [],
   "source": [
    "from sklearn.neighbors import KNeighborsClassifier\n",
    "from sklearn.naive_bayes import GaussianNB\n",
    "from sklearn.svm import SVC\n",
    "from sklearn.tree import DecisionTreeClassifier\n",
    "# Class that only holds a collection of different \n",
    "# base classifiers for usage with SSL methods.\n",
    "class base_classifiers:\n",
    "    KNN = KNeighborsClassifier(\n",
    "        n_neighbors=3,\n",
    "        metric=\"euclidean\",\n",
    "        #n_jobs=2  # Parallelize work on CPUs\n",
    "    )\n",
    "    NB = GaussianNB(\n",
    "        priors=None\n",
    "    )\n",
    "    #SVM = SVC(\n",
    "    #    C=1.0,\n",
    "    #    kernel='poly',\n",
    "    #    degree=1,\n",
    "    #    tol=0.001,\n",
    "    #)\n",
    "    CART = DecisionTreeClassifier(\n",
    "        criterion='entropy',\n",
    "        # splitter='best',\n",
    "        # max_depth=None,\n",
    "        # min_samples_split=2,\n",
    "        min_samples_leaf=2,\n",
    "        # min_weight_fraction_leaf=0.0,\n",
    "        # max_features=None,\n",
    "        # random_state=None,\n",
    "        # max_leaf_nodes=None,\n",
    "        # min_impurity_split=1e-07,\n",
    "        # class_weight=None,\n",
    "        # presort=False,\n",
    "    )"
   ]
  },
  {
   "cell_type": "markdown",
   "metadata": {},
   "source": [
    "### Implemented self-labeled algorithms ###\n",
    "Two algorithms are implemented: Standard Self-Training and Tri Training.\n",
    "#### Standard Self-Training ####\n",
    "Implementation: [Standard Self-Training](standard_self_training.py)<br />\n",
    "The implementation is based on description of the algorithm in paper [2].\n",
    "Training an Standard Self-Training classifier is an iterative process - The base classifier is trained with initial labeled samples. Then it is used for labelling the unlabelled samples and the classifier is retrained with the most confident predictions. The process is repeated until the classifier output stabilizes.\n",
    "#### Tri-Training ###\n",
    "Implementation: [Tri-Training](tri_training.py)<br />\n",
    "The implementation is based on description of the algorithm in paper [3].\n",
    "In Tri-Training, Three base classifiers is trained on randomly subsampled sets of the labelled data. Then each of them will be iteratively trained on labeled data gained from two other base classifiers. The prediciton is made by using majority voting on three base classifiers.\n",
    "\n",
    "In total 6 different classifiers are trained - 2 techniques with 3 different base classifiers:"
   ]
  },
  {
   "cell_type": "code",
   "execution_count": 4,
   "metadata": {
    "collapsed": false
   },
   "outputs": [],
   "source": [
    "from standard_self_training import StandardSelfTraining\n",
    "from tri_training import TriTraining\n",
    "\n",
    "# All classifiers used for testing\n",
    "classifiers = [\n",
    "    TriTraining(\"TriTraining (KNN)\", base_classifiers.KNN),\n",
    "    TriTraining(\"TriTraining (NB)\", base_classifiers.NB),\n",
    "    #TriTraining(\"TriTraining (SVM)\", base_classifiers.SVM),\n",
    "    TriTraining(\"TriTraining (CART)\", base_classifiers.CART),\n",
    "    StandardSelfTraining(\"Self-Training (KNN)\", base_classifiers.KNN),\n",
    "    StandardSelfTraining(\"Self-Training (NB)\", base_classifiers.NB),\n",
    "    #StandardSelfTraining(\"Self-Training (SVM)\", base_classifiers.SVM),\n",
    "    StandardSelfTraining(\"Self-Training (CART)\", base_classifiers.CART)\n",
    "]\n",
    "labeling_rates = [0.10, 0.20, 0.30, 0.40]"
   ]
  },
  {
   "cell_type": "markdown",
   "metadata": {},
   "source": [
    "### Training and scoring ###"
   ]
  },
  {
   "cell_type": "code",
   "execution_count": 5,
   "metadata": {
    "collapsed": false
   },
   "outputs": [],
   "source": [
    "from sklearn.model_selection import train_test_split\n",
    "from sklearn.metrics import confusion_matrix\n",
    "import numpy as np\n",
    "\n",
    "def _training_scoring_iteration(clf, X, y, training_index, test_index, labeling_rate):\n",
    "    \"\"\" \n",
    "    One iteration of fully training and scoring a \n",
    "    classifier on given data (one Kfold split)\n",
    "    \"\"\"\n",
    "    #Testing set is set aside.. - 1/10th of the data\n",
    "    X_test, y_test = X[test_index], y[test_index]\n",
    "\n",
    "    #For generating a testing and transductive set\n",
    "    split_data = train_test_split(\n",
    "        X[training_index],\n",
    "        y[training_index],\n",
    "        test_size=labeling_rate,\n",
    "        random_state=42\n",
    "    )\n",
    "    (X_unlabeled, X_labeled, y_unlabeled, y_labeled) = split_data\n",
    "\n",
    "    #Training set - 9/10 of data\n",
    "    X_train = np.concatenate((X_labeled, X_unlabeled))\n",
    "    y_train = np.concatenate((\n",
    "        y_labeled.astype(str),\n",
    "        np.full_like(y_unlabeled.astype(str), \"unlabeled\")\n",
    "    ))\n",
    "    \n",
    "    #Train the classifier\n",
    "    clf.fit(X_train, y_train)\n",
    "    \n",
    "    #Score the classifier\n",
    "    transductive_score = clf.score(X_unlabeled, y_unlabeled.astype(str))\n",
    "    testing_score = clf.score(X_test, y_test.astype(str))\n",
    "\n",
    "    cnf_matrix = pd.DataFrame(\n",
    "        confusion_matrix(y_test.astype(str), clf.predict(X_test).astype(str))\n",
    "    )\n",
    "    \n",
    "    return transductive_score, testing_score, cnf_matrix\n",
    "    \n",
    "def train_and_score(clf, X, y, cv, labeling_rate):\n",
    "    \"\"\"\n",
    "    Perform KFold cross-validation of a classifier on a given data\n",
    "    and labelling rate\n",
    "    \"\"\"\n",
    "    transductive_scores = []\n",
    "    testing_scores = []\n",
    "    for training_index, test_index in cv.split(X,y):\n",
    "        transductive_score, testing_score, cnf_matrix = _training_scoring_iteration(clf, X, y, training_index, test_index, labeling_rate)\n",
    "        \n",
    "        transductive_scores.append(transductive_score)\n",
    "        testing_scores.append(testing_score)\n",
    "        print(\"#\", end=\"\")\n",
    "    print()\n",
    "    scores = {\n",
    "        \"trans_mean\": np.mean(transductive_scores),\n",
    "        \"test_mean\": np.mean(testing_scores),\n",
    "        \"trans_std\": np.std(transductive_scores),\n",
    "        \"test_std\": np.std(testing_scores)\n",
    "    }\n",
    "    return scores, cnf_matrix"
   ]
  },
  {
   "cell_type": "code",
   "execution_count": 6,
   "metadata": {
    "collapsed": false,
    "scrolled": false
   },
   "outputs": [
    {
     "name": "stdout",
     "output_type": "stream",
     "text": [
      "TriTraining (KNN)\n",
      "dataset: abalone \t\n",
      "rate: 0.1 ##"
     ]
    },
    {
     "name": "stderr",
     "output_type": "stream",
     "text": [
      "/home/mark/.local/lib/python3.5/site-packages/numpy/ma/core.py:3883: FutureWarning: elementwise comparison failed; returning scalar instead, but in the future will perform elementwise comparison\n",
      "  check = self.filled(0).__eq__(other)\n",
      "/home/mark/.local/lib/python3.5/site-packages/sklearn/metrics/classification.py:177: FutureWarning: elementwise comparison failed; returning scalar instead, but in the future will perform elementwise comparison\n",
      "  score = y_true == y_pred\n"
     ]
    },
    {
     "name": "stdout",
     "output_type": "stream",
     "text": [
      "######"
     ]
    },
    {
     "name": "stderr",
     "output_type": "stream",
     "text": [
      "/home/mark/.local/lib/python3.5/site-packages/numpy/ma/core.py:3883: FutureWarning: elementwise comparison failed; returning scalar instead, but in the future will perform elementwise comparison\n",
      "  check = self.filled(0).__eq__(other)\n",
      "/home/mark/.local/lib/python3.5/site-packages/sklearn/metrics/classification.py:177: FutureWarning: elementwise comparison failed; returning scalar instead, but in the future will perform elementwise comparison\n",
      "  score = y_true == y_pred\n"
     ]
    },
    {
     "name": "stdout",
     "output_type": "stream",
     "text": [
      "#"
     ]
    },
    {
     "name": "stderr",
     "output_type": "stream",
     "text": [
      "/home/mark/.local/lib/python3.5/site-packages/numpy/ma/core.py:3883: FutureWarning: elementwise comparison failed; returning scalar instead, but in the future will perform elementwise comparison\n",
      "  check = self.filled(0).__eq__(other)\n",
      "/home/mark/.local/lib/python3.5/site-packages/sklearn/metrics/classification.py:177: FutureWarning: elementwise comparison failed; returning scalar instead, but in the future will perform elementwise comparison\n",
      "  score = y_true == y_pred\n"
     ]
    },
    {
     "name": "stdout",
     "output_type": "stream",
     "text": [
      "#\n",
      "rate: 0.2 ######"
     ]
    },
    {
     "name": "stderr",
     "output_type": "stream",
     "text": [
      "/home/mark/.local/lib/python3.5/site-packages/numpy/ma/core.py:3883: FutureWarning: elementwise comparison failed; returning scalar instead, but in the future will perform elementwise comparison\n",
      "  check = self.filled(0).__eq__(other)\n",
      "/home/mark/.local/lib/python3.5/site-packages/sklearn/metrics/classification.py:177: FutureWarning: elementwise comparison failed; returning scalar instead, but in the future will perform elementwise comparison\n",
      "  score = y_true == y_pred\n"
     ]
    },
    {
     "name": "stdout",
     "output_type": "stream",
     "text": [
      "#"
     ]
    },
    {
     "name": "stderr",
     "output_type": "stream",
     "text": [
      "/home/mark/.local/lib/python3.5/site-packages/numpy/ma/core.py:3883: FutureWarning: elementwise comparison failed; returning scalar instead, but in the future will perform elementwise comparison\n",
      "  check = self.filled(0).__eq__(other)\n",
      "/home/mark/.local/lib/python3.5/site-packages/sklearn/metrics/classification.py:177: FutureWarning: elementwise comparison failed; returning scalar instead, but in the future will perform elementwise comparison\n",
      "  score = y_true == y_pred\n"
     ]
    },
    {
     "name": "stdout",
     "output_type": "stream",
     "text": [
      "###\n",
      "rate: 0.3 ###"
     ]
    },
    {
     "name": "stderr",
     "output_type": "stream",
     "text": [
      "/home/mark/.local/lib/python3.5/site-packages/numpy/ma/core.py:3883: FutureWarning: elementwise comparison failed; returning scalar instead, but in the future will perform elementwise comparison\n",
      "  check = self.filled(0).__eq__(other)\n",
      "/home/mark/.local/lib/python3.5/site-packages/sklearn/metrics/classification.py:177: FutureWarning: elementwise comparison failed; returning scalar instead, but in the future will perform elementwise comparison\n",
      "  score = y_true == y_pred\n"
     ]
    },
    {
     "name": "stdout",
     "output_type": "stream",
     "text": [
      "#"
     ]
    },
    {
     "name": "stderr",
     "output_type": "stream",
     "text": [
      "/home/mark/.local/lib/python3.5/site-packages/numpy/ma/core.py:3883: FutureWarning: elementwise comparison failed; returning scalar instead, but in the future will perform elementwise comparison\n",
      "  check = self.filled(0).__eq__(other)\n",
      "/home/mark/.local/lib/python3.5/site-packages/sklearn/metrics/classification.py:177: FutureWarning: elementwise comparison failed; returning scalar instead, but in the future will perform elementwise comparison\n",
      "  score = y_true == y_pred\n"
     ]
    },
    {
     "name": "stdout",
     "output_type": "stream",
     "text": [
      "####"
     ]
    },
    {
     "name": "stderr",
     "output_type": "stream",
     "text": [
      "/home/mark/.local/lib/python3.5/site-packages/numpy/ma/core.py:3883: FutureWarning: elementwise comparison failed; returning scalar instead, but in the future will perform elementwise comparison\n",
      "  check = self.filled(0).__eq__(other)\n",
      "/home/mark/.local/lib/python3.5/site-packages/sklearn/metrics/classification.py:177: FutureWarning: elementwise comparison failed; returning scalar instead, but in the future will perform elementwise comparison\n",
      "  score = y_true == y_pred\n"
     ]
    },
    {
     "name": "stdout",
     "output_type": "stream",
     "text": [
      "##\n",
      "rate: 0.4 ###"
     ]
    },
    {
     "name": "stderr",
     "output_type": "stream",
     "text": [
      "/home/mark/.local/lib/python3.5/site-packages/numpy/ma/core.py:3883: FutureWarning: elementwise comparison failed; returning scalar instead, but in the future will perform elementwise comparison\n",
      "  check = self.filled(0).__eq__(other)\n",
      "/home/mark/.local/lib/python3.5/site-packages/sklearn/metrics/classification.py:177: FutureWarning: elementwise comparison failed; returning scalar instead, but in the future will perform elementwise comparison\n",
      "  score = y_true == y_pred\n"
     ]
    },
    {
     "name": "stdout",
     "output_type": "stream",
     "text": [
      "#"
     ]
    },
    {
     "name": "stderr",
     "output_type": "stream",
     "text": [
      "/home/mark/.local/lib/python3.5/site-packages/numpy/ma/core.py:3883: FutureWarning: elementwise comparison failed; returning scalar instead, but in the future will perform elementwise comparison\n",
      "  check = self.filled(0).__eq__(other)\n",
      "/home/mark/.local/lib/python3.5/site-packages/sklearn/metrics/classification.py:177: FutureWarning: elementwise comparison failed; returning scalar instead, but in the future will perform elementwise comparison\n",
      "  score = y_true == y_pred\n"
     ]
    },
    {
     "name": "stdout",
     "output_type": "stream",
     "text": [
      "###"
     ]
    },
    {
     "name": "stderr",
     "output_type": "stream",
     "text": [
      "/home/mark/.local/lib/python3.5/site-packages/numpy/ma/core.py:3883: FutureWarning: elementwise comparison failed; returning scalar instead, but in the future will perform elementwise comparison\n",
      "  check = self.filled(0).__eq__(other)\n",
      "/home/mark/.local/lib/python3.5/site-packages/sklearn/metrics/classification.py:177: FutureWarning: elementwise comparison failed; returning scalar instead, but in the future will perform elementwise comparison\n",
      "  score = y_true == y_pred\n"
     ]
    },
    {
     "name": "stdout",
     "output_type": "stream",
     "text": [
      "###\n",
      "dataset: dermatology \t\n",
      "rate: 0.1 ##########\n",
      "rate: 0.2 ##########\n",
      "rate: 0.3 ##########\n",
      "rate: 0.4 ##########\n",
      "\n",
      "--------\n",
      "TriTraining (NB)\n",
      "dataset: abalone \t\n",
      "rate: 0.1 ##"
     ]
    },
    {
     "name": "stderr",
     "output_type": "stream",
     "text": [
      "/home/mark/.local/lib/python3.5/site-packages/numpy/ma/core.py:3883: FutureWarning: elementwise comparison failed; returning scalar instead, but in the future will perform elementwise comparison\n",
      "  check = self.filled(0).__eq__(other)\n",
      "/home/mark/.local/lib/python3.5/site-packages/sklearn/metrics/classification.py:177: FutureWarning: elementwise comparison failed; returning scalar instead, but in the future will perform elementwise comparison\n",
      "  score = y_true == y_pred\n"
     ]
    },
    {
     "name": "stdout",
     "output_type": "stream",
     "text": [
      "#"
     ]
    },
    {
     "name": "stderr",
     "output_type": "stream",
     "text": [
      "/home/mark/.local/lib/python3.5/site-packages/numpy/ma/core.py:3883: FutureWarning: elementwise comparison failed; returning scalar instead, but in the future will perform elementwise comparison\n",
      "  check = self.filled(0).__eq__(other)\n",
      "/home/mark/.local/lib/python3.5/site-packages/sklearn/metrics/classification.py:177: FutureWarning: elementwise comparison failed; returning scalar instead, but in the future will perform elementwise comparison\n",
      "  score = y_true == y_pred\n"
     ]
    },
    {
     "name": "stdout",
     "output_type": "stream",
     "text": [
      "##"
     ]
    },
    {
     "name": "stderr",
     "output_type": "stream",
     "text": [
      "/home/mark/.local/lib/python3.5/site-packages/numpy/ma/core.py:3883: FutureWarning: elementwise comparison failed; returning scalar instead, but in the future will perform elementwise comparison\n",
      "  check = self.filled(0).__eq__(other)\n",
      "/home/mark/.local/lib/python3.5/site-packages/sklearn/metrics/classification.py:177: FutureWarning: elementwise comparison failed; returning scalar instead, but in the future will perform elementwise comparison\n",
      "  score = y_true == y_pred\n"
     ]
    },
    {
     "name": "stdout",
     "output_type": "stream",
     "text": [
      "#"
     ]
    },
    {
     "name": "stderr",
     "output_type": "stream",
     "text": [
      "/home/mark/.local/lib/python3.5/site-packages/numpy/ma/core.py:3883: FutureWarning: elementwise comparison failed; returning scalar instead, but in the future will perform elementwise comparison\n",
      "  check = self.filled(0).__eq__(other)\n",
      "/home/mark/.local/lib/python3.5/site-packages/sklearn/metrics/classification.py:177: FutureWarning: elementwise comparison failed; returning scalar instead, but in the future will perform elementwise comparison\n",
      "  score = y_true == y_pred\n"
     ]
    },
    {
     "name": "stdout",
     "output_type": "stream",
     "text": [
      "#"
     ]
    },
    {
     "name": "stderr",
     "output_type": "stream",
     "text": [
      "/home/mark/.local/lib/python3.5/site-packages/numpy/ma/core.py:3883: FutureWarning: elementwise comparison failed; returning scalar instead, but in the future will perform elementwise comparison\n",
      "  check = self.filled(0).__eq__(other)\n",
      "/home/mark/.local/lib/python3.5/site-packages/sklearn/metrics/classification.py:177: FutureWarning: elementwise comparison failed; returning scalar instead, but in the future will perform elementwise comparison\n",
      "  score = y_true == y_pred\n"
     ]
    },
    {
     "name": "stdout",
     "output_type": "stream",
     "text": [
      "###\n",
      "rate: 0.2 "
     ]
    },
    {
     "name": "stderr",
     "output_type": "stream",
     "text": [
      "/home/mark/.local/lib/python3.5/site-packages/numpy/ma/core.py:3883: FutureWarning: elementwise comparison failed; returning scalar instead, but in the future will perform elementwise comparison\n",
      "  check = self.filled(0).__eq__(other)\n",
      "/home/mark/.local/lib/python3.5/site-packages/sklearn/metrics/classification.py:177: FutureWarning: elementwise comparison failed; returning scalar instead, but in the future will perform elementwise comparison\n",
      "  score = y_true == y_pred\n"
     ]
    },
    {
     "name": "stdout",
     "output_type": "stream",
     "text": [
      "#"
     ]
    },
    {
     "name": "stderr",
     "output_type": "stream",
     "text": [
      "/home/mark/.local/lib/python3.5/site-packages/numpy/ma/core.py:3883: FutureWarning: elementwise comparison failed; returning scalar instead, but in the future will perform elementwise comparison\n",
      "  check = self.filled(0).__eq__(other)\n",
      "/home/mark/.local/lib/python3.5/site-packages/sklearn/metrics/classification.py:177: FutureWarning: elementwise comparison failed; returning scalar instead, but in the future will perform elementwise comparison\n",
      "  score = y_true == y_pred\n"
     ]
    },
    {
     "name": "stdout",
     "output_type": "stream",
     "text": [
      "#"
     ]
    },
    {
     "name": "stderr",
     "output_type": "stream",
     "text": [
      "/home/mark/.local/lib/python3.5/site-packages/numpy/ma/core.py:3883: FutureWarning: elementwise comparison failed; returning scalar instead, but in the future will perform elementwise comparison\n",
      "  check = self.filled(0).__eq__(other)\n",
      "/home/mark/.local/lib/python3.5/site-packages/sklearn/metrics/classification.py:177: FutureWarning: elementwise comparison failed; returning scalar instead, but in the future will perform elementwise comparison\n",
      "  score = y_true == y_pred\n"
     ]
    },
    {
     "name": "stdout",
     "output_type": "stream",
     "text": [
      "#"
     ]
    },
    {
     "name": "stderr",
     "output_type": "stream",
     "text": [
      "/home/mark/.local/lib/python3.5/site-packages/numpy/ma/core.py:3883: FutureWarning: elementwise comparison failed; returning scalar instead, but in the future will perform elementwise comparison\n",
      "  check = self.filled(0).__eq__(other)\n",
      "/home/mark/.local/lib/python3.5/site-packages/sklearn/metrics/classification.py:177: FutureWarning: elementwise comparison failed; returning scalar instead, but in the future will perform elementwise comparison\n",
      "  score = y_true == y_pred\n"
     ]
    },
    {
     "name": "stdout",
     "output_type": "stream",
     "text": [
      "####"
     ]
    },
    {
     "name": "stderr",
     "output_type": "stream",
     "text": [
      "/home/mark/.local/lib/python3.5/site-packages/numpy/ma/core.py:3883: FutureWarning: elementwise comparison failed; returning scalar instead, but in the future will perform elementwise comparison\n",
      "  check = self.filled(0).__eq__(other)\n",
      "/home/mark/.local/lib/python3.5/site-packages/sklearn/metrics/classification.py:177: FutureWarning: elementwise comparison failed; returning scalar instead, but in the future will perform elementwise comparison\n",
      "  score = y_true == y_pred\n"
     ]
    },
    {
     "name": "stdout",
     "output_type": "stream",
     "text": [
      "##"
     ]
    },
    {
     "name": "stderr",
     "output_type": "stream",
     "text": [
      "/home/mark/.local/lib/python3.5/site-packages/numpy/ma/core.py:3883: FutureWarning: elementwise comparison failed; returning scalar instead, but in the future will perform elementwise comparison\n",
      "  check = self.filled(0).__eq__(other)\n",
      "/home/mark/.local/lib/python3.5/site-packages/sklearn/metrics/classification.py:177: FutureWarning: elementwise comparison failed; returning scalar instead, but in the future will perform elementwise comparison\n",
      "  score = y_true == y_pred\n"
     ]
    },
    {
     "name": "stdout",
     "output_type": "stream",
     "text": [
      "#\n",
      "rate: 0.3 "
     ]
    },
    {
     "name": "stderr",
     "output_type": "stream",
     "text": [
      "/home/mark/.local/lib/python3.5/site-packages/numpy/ma/core.py:3883: FutureWarning: elementwise comparison failed; returning scalar instead, but in the future will perform elementwise comparison\n",
      "  check = self.filled(0).__eq__(other)\n",
      "/home/mark/.local/lib/python3.5/site-packages/sklearn/metrics/classification.py:177: FutureWarning: elementwise comparison failed; returning scalar instead, but in the future will perform elementwise comparison\n",
      "  score = y_true == y_pred\n"
     ]
    },
    {
     "name": "stdout",
     "output_type": "stream",
     "text": [
      "####"
     ]
    },
    {
     "name": "stderr",
     "output_type": "stream",
     "text": [
      "/home/mark/.local/lib/python3.5/site-packages/numpy/ma/core.py:3883: FutureWarning: elementwise comparison failed; returning scalar instead, but in the future will perform elementwise comparison\n",
      "  check = self.filled(0).__eq__(other)\n",
      "/home/mark/.local/lib/python3.5/site-packages/sklearn/metrics/classification.py:177: FutureWarning: elementwise comparison failed; returning scalar instead, but in the future will perform elementwise comparison\n",
      "  score = y_true == y_pred\n"
     ]
    },
    {
     "name": "stdout",
     "output_type": "stream",
     "text": [
      "##"
     ]
    },
    {
     "name": "stderr",
     "output_type": "stream",
     "text": [
      "/home/mark/.local/lib/python3.5/site-packages/numpy/ma/core.py:3883: FutureWarning: elementwise comparison failed; returning scalar instead, but in the future will perform elementwise comparison\n",
      "  check = self.filled(0).__eq__(other)\n",
      "/home/mark/.local/lib/python3.5/site-packages/sklearn/metrics/classification.py:177: FutureWarning: elementwise comparison failed; returning scalar instead, but in the future will perform elementwise comparison\n",
      "  score = y_true == y_pred\n"
     ]
    },
    {
     "name": "stdout",
     "output_type": "stream",
     "text": [
      "#"
     ]
    },
    {
     "name": "stderr",
     "output_type": "stream",
     "text": [
      "/home/mark/.local/lib/python3.5/site-packages/numpy/ma/core.py:3883: FutureWarning: elementwise comparison failed; returning scalar instead, but in the future will perform elementwise comparison\n",
      "  check = self.filled(0).__eq__(other)\n",
      "/home/mark/.local/lib/python3.5/site-packages/sklearn/metrics/classification.py:177: FutureWarning: elementwise comparison failed; returning scalar instead, but in the future will perform elementwise comparison\n",
      "  score = y_true == y_pred\n"
     ]
    },
    {
     "name": "stdout",
     "output_type": "stream",
     "text": [
      "#"
     ]
    },
    {
     "name": "stderr",
     "output_type": "stream",
     "text": [
      "/home/mark/.local/lib/python3.5/site-packages/numpy/ma/core.py:3883: FutureWarning: elementwise comparison failed; returning scalar instead, but in the future will perform elementwise comparison\n",
      "  check = self.filled(0).__eq__(other)\n",
      "/home/mark/.local/lib/python3.5/site-packages/sklearn/metrics/classification.py:177: FutureWarning: elementwise comparison failed; returning scalar instead, but in the future will perform elementwise comparison\n",
      "  score = y_true == y_pred\n"
     ]
    },
    {
     "name": "stdout",
     "output_type": "stream",
     "text": [
      "##\n",
      "rate: 0.4 "
     ]
    },
    {
     "name": "stderr",
     "output_type": "stream",
     "text": [
      "/home/mark/.local/lib/python3.5/site-packages/numpy/ma/core.py:3883: FutureWarning: elementwise comparison failed; returning scalar instead, but in the future will perform elementwise comparison\n",
      "  check = self.filled(0).__eq__(other)\n",
      "/home/mark/.local/lib/python3.5/site-packages/sklearn/metrics/classification.py:177: FutureWarning: elementwise comparison failed; returning scalar instead, but in the future will perform elementwise comparison\n",
      "  score = y_true == y_pred\n"
     ]
    },
    {
     "name": "stdout",
     "output_type": "stream",
     "text": [
      "#####"
     ]
    },
    {
     "name": "stderr",
     "output_type": "stream",
     "text": [
      "/home/mark/.local/lib/python3.5/site-packages/numpy/ma/core.py:3883: FutureWarning: elementwise comparison failed; returning scalar instead, but in the future will perform elementwise comparison\n",
      "  check = self.filled(0).__eq__(other)\n",
      "/home/mark/.local/lib/python3.5/site-packages/sklearn/metrics/classification.py:177: FutureWarning: elementwise comparison failed; returning scalar instead, but in the future will perform elementwise comparison\n",
      "  score = y_true == y_pred\n"
     ]
    },
    {
     "name": "stdout",
     "output_type": "stream",
     "text": [
      "###"
     ]
    },
    {
     "name": "stderr",
     "output_type": "stream",
     "text": [
      "/home/mark/.local/lib/python3.5/site-packages/numpy/ma/core.py:3883: FutureWarning: elementwise comparison failed; returning scalar instead, but in the future will perform elementwise comparison\n",
      "  check = self.filled(0).__eq__(other)\n",
      "/home/mark/.local/lib/python3.5/site-packages/sklearn/metrics/classification.py:177: FutureWarning: elementwise comparison failed; returning scalar instead, but in the future will perform elementwise comparison\n",
      "  score = y_true == y_pred\n"
     ]
    },
    {
     "name": "stdout",
     "output_type": "stream",
     "text": [
      "##\n",
      "dataset: dermatology \t\n",
      "rate: 0.1 ##########\n",
      "rate: 0.2 ##########\n",
      "rate: 0.3 ##"
     ]
    },
    {
     "name": "stderr",
     "output_type": "stream",
     "text": [
      "/home/mark/.local/lib/python3.5/site-packages/numpy/ma/core.py:3883: FutureWarning: elementwise comparison failed; returning scalar instead, but in the future will perform elementwise comparison\n",
      "  check = self.filled(0).__eq__(other)\n",
      "/home/mark/.local/lib/python3.5/site-packages/sklearn/metrics/classification.py:177: FutureWarning: elementwise comparison failed; returning scalar instead, but in the future will perform elementwise comparison\n",
      "  score = y_true == y_pred\n"
     ]
    },
    {
     "name": "stdout",
     "output_type": "stream",
     "text": [
      "#####"
     ]
    },
    {
     "name": "stderr",
     "output_type": "stream",
     "text": [
      "/home/mark/.local/lib/python3.5/site-packages/numpy/ma/core.py:3883: FutureWarning: elementwise comparison failed; returning scalar instead, but in the future will perform elementwise comparison\n",
      "  check = self.filled(0).__eq__(other)\n",
      "/home/mark/.local/lib/python3.5/site-packages/sklearn/metrics/classification.py:177: FutureWarning: elementwise comparison failed; returning scalar instead, but in the future will perform elementwise comparison\n",
      "  score = y_true == y_pred\n"
     ]
    },
    {
     "name": "stdout",
     "output_type": "stream",
     "text": [
      "###\n",
      "rate: 0.4 #####"
     ]
    },
    {
     "name": "stderr",
     "output_type": "stream",
     "text": [
      "/home/mark/.local/lib/python3.5/site-packages/numpy/ma/core.py:3883: FutureWarning: elementwise comparison failed; returning scalar instead, but in the future will perform elementwise comparison\n",
      "  check = self.filled(0).__eq__(other)\n",
      "/home/mark/.local/lib/python3.5/site-packages/sklearn/metrics/classification.py:177: FutureWarning: elementwise comparison failed; returning scalar instead, but in the future will perform elementwise comparison\n",
      "  score = y_true == y_pred\n"
     ]
    },
    {
     "name": "stdout",
     "output_type": "stream",
     "text": [
      "##"
     ]
    },
    {
     "name": "stderr",
     "output_type": "stream",
     "text": [
      "/home/mark/.local/lib/python3.5/site-packages/numpy/ma/core.py:3883: FutureWarning: elementwise comparison failed; returning scalar instead, but in the future will perform elementwise comparison\n",
      "  check = self.filled(0).__eq__(other)\n",
      "/home/mark/.local/lib/python3.5/site-packages/sklearn/metrics/classification.py:177: FutureWarning: elementwise comparison failed; returning scalar instead, but in the future will perform elementwise comparison\n",
      "  score = y_true == y_pred\n"
     ]
    },
    {
     "name": "stdout",
     "output_type": "stream",
     "text": [
      "###\n",
      "\n",
      "--------\n",
      "TriTraining (CART)\n",
      "dataset: abalone \t\n",
      "rate: 0.1 ###"
     ]
    },
    {
     "name": "stderr",
     "output_type": "stream",
     "text": [
      "/home/mark/.local/lib/python3.5/site-packages/numpy/ma/core.py:3883: FutureWarning: elementwise comparison failed; returning scalar instead, but in the future will perform elementwise comparison\n",
      "  check = self.filled(0).__eq__(other)\n",
      "/home/mark/.local/lib/python3.5/site-packages/sklearn/metrics/classification.py:177: FutureWarning: elementwise comparison failed; returning scalar instead, but in the future will perform elementwise comparison\n",
      "  score = y_true == y_pred\n"
     ]
    },
    {
     "name": "stdout",
     "output_type": "stream",
     "text": [
      "######"
     ]
    },
    {
     "name": "stderr",
     "output_type": "stream",
     "text": [
      "/home/mark/.local/lib/python3.5/site-packages/numpy/ma/core.py:3883: FutureWarning: elementwise comparison failed; returning scalar instead, but in the future will perform elementwise comparison\n",
      "  check = self.filled(0).__eq__(other)\n",
      "/home/mark/.local/lib/python3.5/site-packages/sklearn/metrics/classification.py:177: FutureWarning: elementwise comparison failed; returning scalar instead, but in the future will perform elementwise comparison\n",
      "  score = y_true == y_pred\n"
     ]
    },
    {
     "name": "stdout",
     "output_type": "stream",
     "text": [
      "#\n",
      "rate: 0.2 ########"
     ]
    },
    {
     "name": "stderr",
     "output_type": "stream",
     "text": [
      "/home/mark/.local/lib/python3.5/site-packages/numpy/ma/core.py:3883: FutureWarning: elementwise comparison failed; returning scalar instead, but in the future will perform elementwise comparison\n",
      "  check = self.filled(0).__eq__(other)\n",
      "/home/mark/.local/lib/python3.5/site-packages/sklearn/metrics/classification.py:177: FutureWarning: elementwise comparison failed; returning scalar instead, but in the future will perform elementwise comparison\n",
      "  score = y_true == y_pred\n"
     ]
    },
    {
     "name": "stdout",
     "output_type": "stream",
     "text": [
      "##\n",
      "rate: 0.3 ##########\n",
      "rate: 0.4 ######"
     ]
    },
    {
     "name": "stderr",
     "output_type": "stream",
     "text": [
      "/home/mark/.local/lib/python3.5/site-packages/numpy/ma/core.py:3883: FutureWarning: elementwise comparison failed; returning scalar instead, but in the future will perform elementwise comparison\n",
      "  check = self.filled(0).__eq__(other)\n",
      "/home/mark/.local/lib/python3.5/site-packages/sklearn/metrics/classification.py:177: FutureWarning: elementwise comparison failed; returning scalar instead, but in the future will perform elementwise comparison\n",
      "  score = y_true == y_pred\n"
     ]
    },
    {
     "name": "stdout",
     "output_type": "stream",
     "text": [
      "####\n",
      "dataset: dermatology \t\n",
      "rate: 0.1 ##########\n",
      "rate: 0.2 ##########\n",
      "rate: 0.3 ##########\n",
      "rate: 0.4 ##########\n",
      "\n",
      "--------\n",
      "Self-Training (KNN)\n",
      "dataset: abalone \t\n",
      "rate: 0.1 35#28#27#30#26#30#36#29#29#36#\n",
      "rate: 0.2 30#39#29#24#27#33#34#29#31#31#\n",
      "rate: 0.3 25#26#25#26#22#21#23#27#30#28#\n",
      "rate: 0.4 23#20#19#19#20#22#24#21#21#21#\n",
      "dataset: dermatology \t\n",
      "rate: 0.1 16#10#10#15#12#11#13#11#15#14#\n",
      "rate: 0.2 19#14#10#15#11#10#12#9#8#17#\n",
      "rate: 0.3 14#13#10#10#10#8#11#9#10#8#\n",
      "rate: 0.4 7#8#8#10#11#10#9#7#9#8#\n",
      "\n",
      "--------\n",
      "Self-Training (NB)\n",
      "dataset: abalone \t\n",
      "rate: 0.1 19#20#10#12#9#22#19#13#29#16#\n",
      "rate: 0.2 9#15#28#29#33#37#40#40#37#40#\n",
      "rate: 0.3 39#20#37#40#40#40#40#40#40#40#\n",
      "rate: 0.4 40#40#40#40#40#40#40#40#40#40#\n",
      "dataset: dermatology \t\n",
      "rate: 0.1 1#1#1#3#1#1#1#1#26#28#\n",
      "rate: 0.2 2#40#40#40#40#40#40#40#40#36#\n",
      "rate: 0.3 40#40#40#40#40#40#40#40#40#40#\n",
      "rate: 0.4 40#40#40#40#40#40#40#40#40#40#\n",
      "\n",
      "--------\n",
      "Self-Training (CART)\n",
      "dataset: abalone \t\n",
      "rate: 0.1 19#21#19#21#16#12#25#19#15#20#\n",
      "rate: 0.2 23#23#27#20#21#31#22#25#26#18#\n",
      "rate: 0.3 19#26#26#24#22#24#27#21#18#19#\n",
      "rate: 0.4 21#21#22#23#24#20#20#24#24#26#\n",
      "dataset: dermatology \t\n",
      "rate: 0.1 1#1#1#1#1#1#3#2#2#2#\n",
      "rate: 0.2 1#1#2#1#2#3#3#4#3#3#\n",
      "rate: 0.3 3#3#2#5#4#4#4#6#3#2#\n",
      "rate: 0.4 1#1#3#2#2#3#3#3#5#3#\n",
      "\n",
      "--------\n"
     ]
    }
   ],
   "source": [
    "from sklearn.model_selection import KFold\n",
    "import pandas as pd\n",
    "\n",
    "\"\"\" \n",
    "The main loop for testing \n",
    "all classifiers with \n",
    "all datasets and \n",
    "all labeling rates\n",
    "\"\"\"\n",
    "results = None\n",
    "cnf_matrixes = {}\n",
    "for classifier in classifiers:\n",
    "    cnf_matrixes[classifier.name] = {}\n",
    "    print(classifier.name)\n",
    "    for dataset_name, dataset in datasets.items():\n",
    "        cnf_matrixes[classifier.name][dataset_name] = {}\n",
    "        print(\"dataset:\", dataset_name, \"\\t\")\n",
    "        for labeling_rate in labeling_rates:\n",
    "            print(\"rate:\", labeling_rate, end=\" \")\n",
    "\n",
    "            test_info = { \"classifier\": classifier.name, \"dataset\":dataset_name, \"labeling_rate\":labeling_rate}\n",
    "            cv = KFold(n_splits=10, random_state=42)\n",
    "            scores, cnf_matrix = train_and_score(classifier, dataset[\"X\"], dataset[\"y\"], cv, labeling_rate)\n",
    "\n",
    "            if results is None:\n",
    "                results = pd.DataFrame([{**test_info, **scores}])\n",
    "            else:\n",
    "                results.loc[len(results.index)] = {**test_info, **scores}\n",
    "            cnf_matrixes[classifier.name][dataset_name][labeling_rate] = cnf_matrix\n",
    "    print()\n",
    "    print(\"--------\")"
   ]
  },
  {
   "cell_type": "markdown",
   "metadata": {},
   "source": [
    "### Results ###"
   ]
  },
  {
   "cell_type": "code",
   "execution_count": 7,
   "metadata": {
    "collapsed": false,
    "scrolled": false
   },
   "outputs": [
    {
     "data": {
      "text/html": [
       "<div>\n",
       "<table border=\"1\" class=\"dataframe\">\n",
       "  <thead>\n",
       "    <tr style=\"text-align: right;\">\n",
       "      <th></th>\n",
       "      <th>classifier</th>\n",
       "      <th>dataset</th>\n",
       "      <th>labeling_rate</th>\n",
       "      <th>test_mean</th>\n",
       "      <th>test_std</th>\n",
       "      <th>trans_mean</th>\n",
       "      <th>trans_std</th>\n",
       "    </tr>\n",
       "  </thead>\n",
       "  <tbody>\n",
       "    <tr>\n",
       "      <th>0</th>\n",
       "      <td>TriTraining (KNN)</td>\n",
       "      <td>abalone</td>\n",
       "      <td>0.1</td>\n",
       "      <td>0.159610</td>\n",
       "      <td>0.093613</td>\n",
       "      <td>0.186119</td>\n",
       "      <td>0.063314</td>\n",
       "    </tr>\n",
       "    <tr>\n",
       "      <th>1</th>\n",
       "      <td>TriTraining (KNN)</td>\n",
       "      <td>abalone</td>\n",
       "      <td>0.2</td>\n",
       "      <td>0.185034</td>\n",
       "      <td>0.084115</td>\n",
       "      <td>0.167961</td>\n",
       "      <td>0.084159</td>\n",
       "    </tr>\n",
       "    <tr>\n",
       "      <th>2</th>\n",
       "      <td>TriTraining (KNN)</td>\n",
       "      <td>abalone</td>\n",
       "      <td>0.3</td>\n",
       "      <td>0.152725</td>\n",
       "      <td>0.092253</td>\n",
       "      <td>0.186408</td>\n",
       "      <td>0.063170</td>\n",
       "    </tr>\n",
       "    <tr>\n",
       "      <th>3</th>\n",
       "      <td>TriTraining (KNN)</td>\n",
       "      <td>abalone</td>\n",
       "      <td>0.4</td>\n",
       "      <td>0.146791</td>\n",
       "      <td>0.085206</td>\n",
       "      <td>0.182644</td>\n",
       "      <td>0.061573</td>\n",
       "    </tr>\n",
       "    <tr>\n",
       "      <th>4</th>\n",
       "      <td>TriTraining (KNN)</td>\n",
       "      <td>dermatology</td>\n",
       "      <td>0.1</td>\n",
       "      <td>0.478078</td>\n",
       "      <td>0.061992</td>\n",
       "      <td>0.443366</td>\n",
       "      <td>0.035022</td>\n",
       "    </tr>\n",
       "    <tr>\n",
       "      <th>5</th>\n",
       "      <td>TriTraining (KNN)</td>\n",
       "      <td>dermatology</td>\n",
       "      <td>0.2</td>\n",
       "      <td>0.647748</td>\n",
       "      <td>0.070364</td>\n",
       "      <td>0.668955</td>\n",
       "      <td>0.020381</td>\n",
       "    </tr>\n",
       "    <tr>\n",
       "      <th>6</th>\n",
       "      <td>TriTraining (KNN)</td>\n",
       "      <td>dermatology</td>\n",
       "      <td>0.3</td>\n",
       "      <td>0.737913</td>\n",
       "      <td>0.080060</td>\n",
       "      <td>0.744788</td>\n",
       "      <td>0.015202</td>\n",
       "    </tr>\n",
       "    <tr>\n",
       "      <th>7</th>\n",
       "      <td>TriTraining (KNN)</td>\n",
       "      <td>dermatology</td>\n",
       "      <td>0.4</td>\n",
       "      <td>0.773348</td>\n",
       "      <td>0.083499</td>\n",
       "      <td>0.800413</td>\n",
       "      <td>0.033052</td>\n",
       "    </tr>\n",
       "    <tr>\n",
       "      <th>8</th>\n",
       "      <td>TriTraining (NB)</td>\n",
       "      <td>abalone</td>\n",
       "      <td>0.1</td>\n",
       "      <td>0.090718</td>\n",
       "      <td>0.035779</td>\n",
       "      <td>0.044423</td>\n",
       "      <td>0.044664</td>\n",
       "    </tr>\n",
       "    <tr>\n",
       "      <th>9</th>\n",
       "      <td>TriTraining (NB)</td>\n",
       "      <td>abalone</td>\n",
       "      <td>0.2</td>\n",
       "      <td>0.085693</td>\n",
       "      <td>0.053914</td>\n",
       "      <td>0.043761</td>\n",
       "      <td>0.053617</td>\n",
       "    </tr>\n",
       "    <tr>\n",
       "      <th>10</th>\n",
       "      <td>TriTraining (NB)</td>\n",
       "      <td>abalone</td>\n",
       "      <td>0.3</td>\n",
       "      <td>0.090472</td>\n",
       "      <td>0.058631</td>\n",
       "      <td>0.057842</td>\n",
       "      <td>0.047577</td>\n",
       "    </tr>\n",
       "    <tr>\n",
       "      <th>11</th>\n",
       "      <td>TriTraining (NB)</td>\n",
       "      <td>abalone</td>\n",
       "      <td>0.4</td>\n",
       "      <td>0.088085</td>\n",
       "      <td>0.057578</td>\n",
       "      <td>0.082292</td>\n",
       "      <td>0.041538</td>\n",
       "    </tr>\n",
       "    <tr>\n",
       "      <th>12</th>\n",
       "      <td>TriTraining (NB)</td>\n",
       "      <td>dermatology</td>\n",
       "      <td>0.1</td>\n",
       "      <td>0.401126</td>\n",
       "      <td>0.300181</td>\n",
       "      <td>0.406665</td>\n",
       "      <td>0.275658</td>\n",
       "    </tr>\n",
       "    <tr>\n",
       "      <th>13</th>\n",
       "      <td>TriTraining (NB)</td>\n",
       "      <td>dermatology</td>\n",
       "      <td>0.2</td>\n",
       "      <td>0.278153</td>\n",
       "      <td>0.210628</td>\n",
       "      <td>0.251790</td>\n",
       "      <td>0.211221</td>\n",
       "    </tr>\n",
       "    <tr>\n",
       "      <th>14</th>\n",
       "      <td>TriTraining (NB)</td>\n",
       "      <td>dermatology</td>\n",
       "      <td>0.3</td>\n",
       "      <td>0.166366</td>\n",
       "      <td>0.116880</td>\n",
       "      <td>0.196640</td>\n",
       "      <td>0.110576</td>\n",
       "    </tr>\n",
       "    <tr>\n",
       "      <th>15</th>\n",
       "      <td>TriTraining (NB)</td>\n",
       "      <td>dermatology</td>\n",
       "      <td>0.4</td>\n",
       "      <td>0.155030</td>\n",
       "      <td>0.097225</td>\n",
       "      <td>0.180885</td>\n",
       "      <td>0.097111</td>\n",
       "    </tr>\n",
       "    <tr>\n",
       "      <th>16</th>\n",
       "      <td>TriTraining (CART)</td>\n",
       "      <td>abalone</td>\n",
       "      <td>0.1</td>\n",
       "      <td>0.167789</td>\n",
       "      <td>0.080768</td>\n",
       "      <td>0.181449</td>\n",
       "      <td>0.061071</td>\n",
       "    </tr>\n",
       "    <tr>\n",
       "      <th>17</th>\n",
       "      <td>TriTraining (CART)</td>\n",
       "      <td>abalone</td>\n",
       "      <td>0.2</td>\n",
       "      <td>0.197977</td>\n",
       "      <td>0.063281</td>\n",
       "      <td>0.178936</td>\n",
       "      <td>0.060470</td>\n",
       "    </tr>\n",
       "    <tr>\n",
       "      <th>18</th>\n",
       "      <td>TriTraining (CART)</td>\n",
       "      <td>abalone</td>\n",
       "      <td>0.3</td>\n",
       "      <td>0.192957</td>\n",
       "      <td>0.041478</td>\n",
       "      <td>0.197925</td>\n",
       "      <td>0.011228</td>\n",
       "    </tr>\n",
       "    <tr>\n",
       "      <th>19</th>\n",
       "      <td>TriTraining (CART)</td>\n",
       "      <td>abalone</td>\n",
       "      <td>0.4</td>\n",
       "      <td>0.169758</td>\n",
       "      <td>0.070042</td>\n",
       "      <td>0.198067</td>\n",
       "      <td>0.009981</td>\n",
       "    </tr>\n",
       "    <tr>\n",
       "      <th>20</th>\n",
       "      <td>TriTraining (CART)</td>\n",
       "      <td>dermatology</td>\n",
       "      <td>0.1</td>\n",
       "      <td>0.715766</td>\n",
       "      <td>0.152987</td>\n",
       "      <td>0.769580</td>\n",
       "      <td>0.041982</td>\n",
       "    </tr>\n",
       "    <tr>\n",
       "      <th>21</th>\n",
       "      <td>TriTraining (CART)</td>\n",
       "      <td>dermatology</td>\n",
       "      <td>0.2</td>\n",
       "      <td>0.896321</td>\n",
       "      <td>0.074975</td>\n",
       "      <td>0.918764</td>\n",
       "      <td>0.020228</td>\n",
       "    </tr>\n",
       "    <tr>\n",
       "      <th>22</th>\n",
       "      <td>TriTraining (CART)</td>\n",
       "      <td>dermatology</td>\n",
       "      <td>0.3</td>\n",
       "      <td>0.901727</td>\n",
       "      <td>0.068320</td>\n",
       "      <td>0.916243</td>\n",
       "      <td>0.027497</td>\n",
       "    </tr>\n",
       "    <tr>\n",
       "      <th>23</th>\n",
       "      <td>TriTraining (CART)</td>\n",
       "      <td>dermatology</td>\n",
       "      <td>0.4</td>\n",
       "      <td>0.907132</td>\n",
       "      <td>0.064047</td>\n",
       "      <td>0.946829</td>\n",
       "      <td>0.014985</td>\n",
       "    </tr>\n",
       "    <tr>\n",
       "      <th>24</th>\n",
       "      <td>Self-Training (KNN)</td>\n",
       "      <td>abalone</td>\n",
       "      <td>0.1</td>\n",
       "      <td>0.242754</td>\n",
       "      <td>0.084157</td>\n",
       "      <td>0.237461</td>\n",
       "      <td>0.007264</td>\n",
       "    </tr>\n",
       "    <tr>\n",
       "      <th>25</th>\n",
       "      <td>Self-Training (KNN)</td>\n",
       "      <td>abalone</td>\n",
       "      <td>0.2</td>\n",
       "      <td>0.230311</td>\n",
       "      <td>0.083290</td>\n",
       "      <td>0.233099</td>\n",
       "      <td>0.011785</td>\n",
       "    </tr>\n",
       "    <tr>\n",
       "      <th>26</th>\n",
       "      <td>Self-Training (KNN)</td>\n",
       "      <td>abalone</td>\n",
       "      <td>0.3</td>\n",
       "      <td>0.229596</td>\n",
       "      <td>0.073373</td>\n",
       "      <td>0.232699</td>\n",
       "      <td>0.008617</td>\n",
       "    </tr>\n",
       "    <tr>\n",
       "      <th>27</th>\n",
       "      <td>Self-Training (KNN)</td>\n",
       "      <td>abalone</td>\n",
       "      <td>0.4</td>\n",
       "      <td>0.227203</td>\n",
       "      <td>0.074212</td>\n",
       "      <td>0.226223</td>\n",
       "      <td>0.008845</td>\n",
       "    </tr>\n",
       "    <tr>\n",
       "      <th>28</th>\n",
       "      <td>Self-Training (KNN)</td>\n",
       "      <td>dermatology</td>\n",
       "      <td>0.1</td>\n",
       "      <td>0.549399</td>\n",
       "      <td>0.072864</td>\n",
       "      <td>0.506809</td>\n",
       "      <td>0.052777</td>\n",
       "    </tr>\n",
       "    <tr>\n",
       "      <th>29</th>\n",
       "      <td>Self-Training (KNN)</td>\n",
       "      <td>dermatology</td>\n",
       "      <td>0.2</td>\n",
       "      <td>0.696772</td>\n",
       "      <td>0.045663</td>\n",
       "      <td>0.692879</td>\n",
       "      <td>0.026361</td>\n",
       "    </tr>\n",
       "    <tr>\n",
       "      <th>30</th>\n",
       "      <td>Self-Training (KNN)</td>\n",
       "      <td>dermatology</td>\n",
       "      <td>0.3</td>\n",
       "      <td>0.748574</td>\n",
       "      <td>0.053008</td>\n",
       "      <td>0.737414</td>\n",
       "      <td>0.025927</td>\n",
       "    </tr>\n",
       "    <tr>\n",
       "      <th>31</th>\n",
       "      <td>Self-Training (KNN)</td>\n",
       "      <td>dermatology</td>\n",
       "      <td>0.4</td>\n",
       "      <td>0.781381</td>\n",
       "      <td>0.057703</td>\n",
       "      <td>0.785715</td>\n",
       "      <td>0.030130</td>\n",
       "    </tr>\n",
       "    <tr>\n",
       "      <th>32</th>\n",
       "      <td>Self-Training (NB)</td>\n",
       "      <td>abalone</td>\n",
       "      <td>0.1</td>\n",
       "      <td>0.075651</td>\n",
       "      <td>0.023860</td>\n",
       "      <td>0.065025</td>\n",
       "      <td>0.004766</td>\n",
       "    </tr>\n",
       "    <tr>\n",
       "      <th>33</th>\n",
       "      <td>Self-Training (NB)</td>\n",
       "      <td>abalone</td>\n",
       "      <td>0.2</td>\n",
       "      <td>0.086187</td>\n",
       "      <td>0.033949</td>\n",
       "      <td>0.085060</td>\n",
       "      <td>0.010414</td>\n",
       "    </tr>\n",
       "    <tr>\n",
       "      <th>34</th>\n",
       "      <td>Self-Training (NB)</td>\n",
       "      <td>abalone</td>\n",
       "      <td>0.3</td>\n",
       "      <td>0.091458</td>\n",
       "      <td>0.036784</td>\n",
       "      <td>0.084710</td>\n",
       "      <td>0.006705</td>\n",
       "    </tr>\n",
       "    <tr>\n",
       "      <th>35</th>\n",
       "      <td>Self-Training (NB)</td>\n",
       "      <td>abalone</td>\n",
       "      <td>0.4</td>\n",
       "      <td>0.091689</td>\n",
       "      <td>0.040028</td>\n",
       "      <td>0.083315</td>\n",
       "      <td>0.005651</td>\n",
       "    </tr>\n",
       "    <tr>\n",
       "      <th>36</th>\n",
       "      <td>Self-Training (NB)</td>\n",
       "      <td>dermatology</td>\n",
       "      <td>0.1</td>\n",
       "      <td>0.676877</td>\n",
       "      <td>0.250911</td>\n",
       "      <td>0.645830</td>\n",
       "      <td>0.256829</td>\n",
       "    </tr>\n",
       "    <tr>\n",
       "      <th>37</th>\n",
       "      <td>Self-Training (NB)</td>\n",
       "      <td>dermatology</td>\n",
       "      <td>0.2</td>\n",
       "      <td>0.196396</td>\n",
       "      <td>0.069305</td>\n",
       "      <td>0.194363</td>\n",
       "      <td>0.012955</td>\n",
       "    </tr>\n",
       "    <tr>\n",
       "      <th>38</th>\n",
       "      <td>Self-Training (NB)</td>\n",
       "      <td>dermatology</td>\n",
       "      <td>0.3</td>\n",
       "      <td>0.196396</td>\n",
       "      <td>0.069305</td>\n",
       "      <td>0.215726</td>\n",
       "      <td>0.040900</td>\n",
       "    </tr>\n",
       "    <tr>\n",
       "      <th>39</th>\n",
       "      <td>Self-Training (NB)</td>\n",
       "      <td>dermatology</td>\n",
       "      <td>0.4</td>\n",
       "      <td>0.196396</td>\n",
       "      <td>0.069305</td>\n",
       "      <td>0.223930</td>\n",
       "      <td>0.035261</td>\n",
       "    </tr>\n",
       "    <tr>\n",
       "      <th>40</th>\n",
       "      <td>Self-Training (CART)</td>\n",
       "      <td>abalone</td>\n",
       "      <td>0.1</td>\n",
       "      <td>0.208044</td>\n",
       "      <td>0.057041</td>\n",
       "      <td>0.210919</td>\n",
       "      <td>0.012029</td>\n",
       "    </tr>\n",
       "    <tr>\n",
       "      <th>41</th>\n",
       "      <td>Self-Training (CART)</td>\n",
       "      <td>abalone</td>\n",
       "      <td>0.2</td>\n",
       "      <td>0.212577</td>\n",
       "      <td>0.058447</td>\n",
       "      <td>0.210920</td>\n",
       "      <td>0.010081</td>\n",
       "    </tr>\n",
       "    <tr>\n",
       "      <th>42</th>\n",
       "      <td>Self-Training (CART)</td>\n",
       "      <td>abalone</td>\n",
       "      <td>0.3</td>\n",
       "      <td>0.209482</td>\n",
       "      <td>0.045617</td>\n",
       "      <td>0.211227</td>\n",
       "      <td>0.010464</td>\n",
       "    </tr>\n",
       "    <tr>\n",
       "      <th>43</th>\n",
       "      <td>Self-Training (CART)</td>\n",
       "      <td>abalone</td>\n",
       "      <td>0.4</td>\n",
       "      <td>0.212609</td>\n",
       "      <td>0.051943</td>\n",
       "      <td>0.210881</td>\n",
       "      <td>0.015029</td>\n",
       "    </tr>\n",
       "    <tr>\n",
       "      <th>44</th>\n",
       "      <td>Self-Training (CART)</td>\n",
       "      <td>dermatology</td>\n",
       "      <td>0.1</td>\n",
       "      <td>0.778153</td>\n",
       "      <td>0.107618</td>\n",
       "      <td>0.790551</td>\n",
       "      <td>0.068355</td>\n",
       "    </tr>\n",
       "    <tr>\n",
       "      <th>45</th>\n",
       "      <td>Self-Training (CART)</td>\n",
       "      <td>dermatology</td>\n",
       "      <td>0.2</td>\n",
       "      <td>0.879730</td>\n",
       "      <td>0.089891</td>\n",
       "      <td>0.911953</td>\n",
       "      <td>0.027151</td>\n",
       "    </tr>\n",
       "    <tr>\n",
       "      <th>46</th>\n",
       "      <td>Self-Training (CART)</td>\n",
       "      <td>dermatology</td>\n",
       "      <td>0.3</td>\n",
       "      <td>0.877102</td>\n",
       "      <td>0.071579</td>\n",
       "      <td>0.901929</td>\n",
       "      <td>0.026938</td>\n",
       "    </tr>\n",
       "    <tr>\n",
       "      <th>47</th>\n",
       "      <td>Self-Training (CART)</td>\n",
       "      <td>dermatology</td>\n",
       "      <td>0.4</td>\n",
       "      <td>0.909835</td>\n",
       "      <td>0.068335</td>\n",
       "      <td>0.935674</td>\n",
       "      <td>0.015822</td>\n",
       "    </tr>\n",
       "  </tbody>\n",
       "</table>\n",
       "</div>"
      ],
      "text/plain": [
       "              classifier      dataset  labeling_rate  test_mean  test_std  \\\n",
       "0      TriTraining (KNN)      abalone            0.1   0.159610  0.093613   \n",
       "1      TriTraining (KNN)      abalone            0.2   0.185034  0.084115   \n",
       "2      TriTraining (KNN)      abalone            0.3   0.152725  0.092253   \n",
       "3      TriTraining (KNN)      abalone            0.4   0.146791  0.085206   \n",
       "4      TriTraining (KNN)  dermatology            0.1   0.478078  0.061992   \n",
       "5      TriTraining (KNN)  dermatology            0.2   0.647748  0.070364   \n",
       "6      TriTraining (KNN)  dermatology            0.3   0.737913  0.080060   \n",
       "7      TriTraining (KNN)  dermatology            0.4   0.773348  0.083499   \n",
       "8       TriTraining (NB)      abalone            0.1   0.090718  0.035779   \n",
       "9       TriTraining (NB)      abalone            0.2   0.085693  0.053914   \n",
       "10      TriTraining (NB)      abalone            0.3   0.090472  0.058631   \n",
       "11      TriTraining (NB)      abalone            0.4   0.088085  0.057578   \n",
       "12      TriTraining (NB)  dermatology            0.1   0.401126  0.300181   \n",
       "13      TriTraining (NB)  dermatology            0.2   0.278153  0.210628   \n",
       "14      TriTraining (NB)  dermatology            0.3   0.166366  0.116880   \n",
       "15      TriTraining (NB)  dermatology            0.4   0.155030  0.097225   \n",
       "16    TriTraining (CART)      abalone            0.1   0.167789  0.080768   \n",
       "17    TriTraining (CART)      abalone            0.2   0.197977  0.063281   \n",
       "18    TriTraining (CART)      abalone            0.3   0.192957  0.041478   \n",
       "19    TriTraining (CART)      abalone            0.4   0.169758  0.070042   \n",
       "20    TriTraining (CART)  dermatology            0.1   0.715766  0.152987   \n",
       "21    TriTraining (CART)  dermatology            0.2   0.896321  0.074975   \n",
       "22    TriTraining (CART)  dermatology            0.3   0.901727  0.068320   \n",
       "23    TriTraining (CART)  dermatology            0.4   0.907132  0.064047   \n",
       "24   Self-Training (KNN)      abalone            0.1   0.242754  0.084157   \n",
       "25   Self-Training (KNN)      abalone            0.2   0.230311  0.083290   \n",
       "26   Self-Training (KNN)      abalone            0.3   0.229596  0.073373   \n",
       "27   Self-Training (KNN)      abalone            0.4   0.227203  0.074212   \n",
       "28   Self-Training (KNN)  dermatology            0.1   0.549399  0.072864   \n",
       "29   Self-Training (KNN)  dermatology            0.2   0.696772  0.045663   \n",
       "30   Self-Training (KNN)  dermatology            0.3   0.748574  0.053008   \n",
       "31   Self-Training (KNN)  dermatology            0.4   0.781381  0.057703   \n",
       "32    Self-Training (NB)      abalone            0.1   0.075651  0.023860   \n",
       "33    Self-Training (NB)      abalone            0.2   0.086187  0.033949   \n",
       "34    Self-Training (NB)      abalone            0.3   0.091458  0.036784   \n",
       "35    Self-Training (NB)      abalone            0.4   0.091689  0.040028   \n",
       "36    Self-Training (NB)  dermatology            0.1   0.676877  0.250911   \n",
       "37    Self-Training (NB)  dermatology            0.2   0.196396  0.069305   \n",
       "38    Self-Training (NB)  dermatology            0.3   0.196396  0.069305   \n",
       "39    Self-Training (NB)  dermatology            0.4   0.196396  0.069305   \n",
       "40  Self-Training (CART)      abalone            0.1   0.208044  0.057041   \n",
       "41  Self-Training (CART)      abalone            0.2   0.212577  0.058447   \n",
       "42  Self-Training (CART)      abalone            0.3   0.209482  0.045617   \n",
       "43  Self-Training (CART)      abalone            0.4   0.212609  0.051943   \n",
       "44  Self-Training (CART)  dermatology            0.1   0.778153  0.107618   \n",
       "45  Self-Training (CART)  dermatology            0.2   0.879730  0.089891   \n",
       "46  Self-Training (CART)  dermatology            0.3   0.877102  0.071579   \n",
       "47  Self-Training (CART)  dermatology            0.4   0.909835  0.068335   \n",
       "\n",
       "    trans_mean  trans_std  \n",
       "0     0.186119   0.063314  \n",
       "1     0.167961   0.084159  \n",
       "2     0.186408   0.063170  \n",
       "3     0.182644   0.061573  \n",
       "4     0.443366   0.035022  \n",
       "5     0.668955   0.020381  \n",
       "6     0.744788   0.015202  \n",
       "7     0.800413   0.033052  \n",
       "8     0.044423   0.044664  \n",
       "9     0.043761   0.053617  \n",
       "10    0.057842   0.047577  \n",
       "11    0.082292   0.041538  \n",
       "12    0.406665   0.275658  \n",
       "13    0.251790   0.211221  \n",
       "14    0.196640   0.110576  \n",
       "15    0.180885   0.097111  \n",
       "16    0.181449   0.061071  \n",
       "17    0.178936   0.060470  \n",
       "18    0.197925   0.011228  \n",
       "19    0.198067   0.009981  \n",
       "20    0.769580   0.041982  \n",
       "21    0.918764   0.020228  \n",
       "22    0.916243   0.027497  \n",
       "23    0.946829   0.014985  \n",
       "24    0.237461   0.007264  \n",
       "25    0.233099   0.011785  \n",
       "26    0.232699   0.008617  \n",
       "27    0.226223   0.008845  \n",
       "28    0.506809   0.052777  \n",
       "29    0.692879   0.026361  \n",
       "30    0.737414   0.025927  \n",
       "31    0.785715   0.030130  \n",
       "32    0.065025   0.004766  \n",
       "33    0.085060   0.010414  \n",
       "34    0.084710   0.006705  \n",
       "35    0.083315   0.005651  \n",
       "36    0.645830   0.256829  \n",
       "37    0.194363   0.012955  \n",
       "38    0.215726   0.040900  \n",
       "39    0.223930   0.035261  \n",
       "40    0.210919   0.012029  \n",
       "41    0.210920   0.010081  \n",
       "42    0.211227   0.010464  \n",
       "43    0.210881   0.015029  \n",
       "44    0.790551   0.068355  \n",
       "45    0.911953   0.027151  \n",
       "46    0.901929   0.026938  \n",
       "47    0.935674   0.015822  "
      ]
     },
     "execution_count": 7,
     "metadata": {},
     "output_type": "execute_result"
    }
   ],
   "source": [
    "results"
   ]
  },
  {
   "cell_type": "code",
   "execution_count": 8,
   "metadata": {
    "collapsed": false,
    "scrolled": false
   },
   "outputs": [
    {
     "data": {
      "text/html": [
       "<div>\n",
       "<table border=\"1\" class=\"dataframe\">\n",
       "  <thead>\n",
       "    <tr>\n",
       "      <th></th>\n",
       "      <th></th>\n",
       "      <th colspan=\"4\" halign=\"left\">test_mean</th>\n",
       "      <th colspan=\"4\" halign=\"left\">test_std</th>\n",
       "      <th colspan=\"4\" halign=\"left\">trans_mean</th>\n",
       "      <th colspan=\"4\" halign=\"left\">trans_std</th>\n",
       "    </tr>\n",
       "    <tr>\n",
       "      <th></th>\n",
       "      <th>labeling_rate</th>\n",
       "      <th>0.1</th>\n",
       "      <th>0.2</th>\n",
       "      <th>0.3</th>\n",
       "      <th>0.4</th>\n",
       "      <th>0.1</th>\n",
       "      <th>0.2</th>\n",
       "      <th>0.3</th>\n",
       "      <th>0.4</th>\n",
       "      <th>0.1</th>\n",
       "      <th>0.2</th>\n",
       "      <th>0.3</th>\n",
       "      <th>0.4</th>\n",
       "      <th>0.1</th>\n",
       "      <th>0.2</th>\n",
       "      <th>0.3</th>\n",
       "      <th>0.4</th>\n",
       "    </tr>\n",
       "    <tr>\n",
       "      <th>dataset</th>\n",
       "      <th>classifier</th>\n",
       "      <th></th>\n",
       "      <th></th>\n",
       "      <th></th>\n",
       "      <th></th>\n",
       "      <th></th>\n",
       "      <th></th>\n",
       "      <th></th>\n",
       "      <th></th>\n",
       "      <th></th>\n",
       "      <th></th>\n",
       "      <th></th>\n",
       "      <th></th>\n",
       "      <th></th>\n",
       "      <th></th>\n",
       "      <th></th>\n",
       "      <th></th>\n",
       "    </tr>\n",
       "  </thead>\n",
       "  <tbody>\n",
       "    <tr>\n",
       "      <th rowspan=\"6\" valign=\"top\">abalone</th>\n",
       "      <th>Self-Training (CART)</th>\n",
       "      <td>0.208044</td>\n",
       "      <td>0.212577</td>\n",
       "      <td>0.209482</td>\n",
       "      <td>0.212609</td>\n",
       "      <td>0.057041</td>\n",
       "      <td>0.058447</td>\n",
       "      <td>0.045617</td>\n",
       "      <td>0.051943</td>\n",
       "      <td>0.210919</td>\n",
       "      <td>0.210920</td>\n",
       "      <td>0.211227</td>\n",
       "      <td>0.210881</td>\n",
       "      <td>0.012029</td>\n",
       "      <td>0.010081</td>\n",
       "      <td>0.010464</td>\n",
       "      <td>0.015029</td>\n",
       "    </tr>\n",
       "    <tr>\n",
       "      <th>Self-Training (KNN)</th>\n",
       "      <td>0.242754</td>\n",
       "      <td>0.230311</td>\n",
       "      <td>0.229596</td>\n",
       "      <td>0.227203</td>\n",
       "      <td>0.084157</td>\n",
       "      <td>0.083290</td>\n",
       "      <td>0.073373</td>\n",
       "      <td>0.074212</td>\n",
       "      <td>0.237461</td>\n",
       "      <td>0.233099</td>\n",
       "      <td>0.232699</td>\n",
       "      <td>0.226223</td>\n",
       "      <td>0.007264</td>\n",
       "      <td>0.011785</td>\n",
       "      <td>0.008617</td>\n",
       "      <td>0.008845</td>\n",
       "    </tr>\n",
       "    <tr>\n",
       "      <th>Self-Training (NB)</th>\n",
       "      <td>0.075651</td>\n",
       "      <td>0.086187</td>\n",
       "      <td>0.091458</td>\n",
       "      <td>0.091689</td>\n",
       "      <td>0.023860</td>\n",
       "      <td>0.033949</td>\n",
       "      <td>0.036784</td>\n",
       "      <td>0.040028</td>\n",
       "      <td>0.065025</td>\n",
       "      <td>0.085060</td>\n",
       "      <td>0.084710</td>\n",
       "      <td>0.083315</td>\n",
       "      <td>0.004766</td>\n",
       "      <td>0.010414</td>\n",
       "      <td>0.006705</td>\n",
       "      <td>0.005651</td>\n",
       "    </tr>\n",
       "    <tr>\n",
       "      <th>TriTraining (CART)</th>\n",
       "      <td>0.167789</td>\n",
       "      <td>0.197977</td>\n",
       "      <td>0.192957</td>\n",
       "      <td>0.169758</td>\n",
       "      <td>0.080768</td>\n",
       "      <td>0.063281</td>\n",
       "      <td>0.041478</td>\n",
       "      <td>0.070042</td>\n",
       "      <td>0.181449</td>\n",
       "      <td>0.178936</td>\n",
       "      <td>0.197925</td>\n",
       "      <td>0.198067</td>\n",
       "      <td>0.061071</td>\n",
       "      <td>0.060470</td>\n",
       "      <td>0.011228</td>\n",
       "      <td>0.009981</td>\n",
       "    </tr>\n",
       "    <tr>\n",
       "      <th>TriTraining (KNN)</th>\n",
       "      <td>0.159610</td>\n",
       "      <td>0.185034</td>\n",
       "      <td>0.152725</td>\n",
       "      <td>0.146791</td>\n",
       "      <td>0.093613</td>\n",
       "      <td>0.084115</td>\n",
       "      <td>0.092253</td>\n",
       "      <td>0.085206</td>\n",
       "      <td>0.186119</td>\n",
       "      <td>0.167961</td>\n",
       "      <td>0.186408</td>\n",
       "      <td>0.182644</td>\n",
       "      <td>0.063314</td>\n",
       "      <td>0.084159</td>\n",
       "      <td>0.063170</td>\n",
       "      <td>0.061573</td>\n",
       "    </tr>\n",
       "    <tr>\n",
       "      <th>TriTraining (NB)</th>\n",
       "      <td>0.090718</td>\n",
       "      <td>0.085693</td>\n",
       "      <td>0.090472</td>\n",
       "      <td>0.088085</td>\n",
       "      <td>0.035779</td>\n",
       "      <td>0.053914</td>\n",
       "      <td>0.058631</td>\n",
       "      <td>0.057578</td>\n",
       "      <td>0.044423</td>\n",
       "      <td>0.043761</td>\n",
       "      <td>0.057842</td>\n",
       "      <td>0.082292</td>\n",
       "      <td>0.044664</td>\n",
       "      <td>0.053617</td>\n",
       "      <td>0.047577</td>\n",
       "      <td>0.041538</td>\n",
       "    </tr>\n",
       "    <tr>\n",
       "      <th rowspan=\"6\" valign=\"top\">dermatology</th>\n",
       "      <th>Self-Training (CART)</th>\n",
       "      <td>0.778153</td>\n",
       "      <td>0.879730</td>\n",
       "      <td>0.877102</td>\n",
       "      <td>0.909835</td>\n",
       "      <td>0.107618</td>\n",
       "      <td>0.089891</td>\n",
       "      <td>0.071579</td>\n",
       "      <td>0.068335</td>\n",
       "      <td>0.790551</td>\n",
       "      <td>0.911953</td>\n",
       "      <td>0.901929</td>\n",
       "      <td>0.935674</td>\n",
       "      <td>0.068355</td>\n",
       "      <td>0.027151</td>\n",
       "      <td>0.026938</td>\n",
       "      <td>0.015822</td>\n",
       "    </tr>\n",
       "    <tr>\n",
       "      <th>Self-Training (KNN)</th>\n",
       "      <td>0.549399</td>\n",
       "      <td>0.696772</td>\n",
       "      <td>0.748574</td>\n",
       "      <td>0.781381</td>\n",
       "      <td>0.072864</td>\n",
       "      <td>0.045663</td>\n",
       "      <td>0.053008</td>\n",
       "      <td>0.057703</td>\n",
       "      <td>0.506809</td>\n",
       "      <td>0.692879</td>\n",
       "      <td>0.737414</td>\n",
       "      <td>0.785715</td>\n",
       "      <td>0.052777</td>\n",
       "      <td>0.026361</td>\n",
       "      <td>0.025927</td>\n",
       "      <td>0.030130</td>\n",
       "    </tr>\n",
       "    <tr>\n",
       "      <th>Self-Training (NB)</th>\n",
       "      <td>0.676877</td>\n",
       "      <td>0.196396</td>\n",
       "      <td>0.196396</td>\n",
       "      <td>0.196396</td>\n",
       "      <td>0.250911</td>\n",
       "      <td>0.069305</td>\n",
       "      <td>0.069305</td>\n",
       "      <td>0.069305</td>\n",
       "      <td>0.645830</td>\n",
       "      <td>0.194363</td>\n",
       "      <td>0.215726</td>\n",
       "      <td>0.223930</td>\n",
       "      <td>0.256829</td>\n",
       "      <td>0.012955</td>\n",
       "      <td>0.040900</td>\n",
       "      <td>0.035261</td>\n",
       "    </tr>\n",
       "    <tr>\n",
       "      <th>TriTraining (CART)</th>\n",
       "      <td>0.715766</td>\n",
       "      <td>0.896321</td>\n",
       "      <td>0.901727</td>\n",
       "      <td>0.907132</td>\n",
       "      <td>0.152987</td>\n",
       "      <td>0.074975</td>\n",
       "      <td>0.068320</td>\n",
       "      <td>0.064047</td>\n",
       "      <td>0.769580</td>\n",
       "      <td>0.918764</td>\n",
       "      <td>0.916243</td>\n",
       "      <td>0.946829</td>\n",
       "      <td>0.041982</td>\n",
       "      <td>0.020228</td>\n",
       "      <td>0.027497</td>\n",
       "      <td>0.014985</td>\n",
       "    </tr>\n",
       "    <tr>\n",
       "      <th>TriTraining (KNN)</th>\n",
       "      <td>0.478078</td>\n",
       "      <td>0.647748</td>\n",
       "      <td>0.737913</td>\n",
       "      <td>0.773348</td>\n",
       "      <td>0.061992</td>\n",
       "      <td>0.070364</td>\n",
       "      <td>0.080060</td>\n",
       "      <td>0.083499</td>\n",
       "      <td>0.443366</td>\n",
       "      <td>0.668955</td>\n",
       "      <td>0.744788</td>\n",
       "      <td>0.800413</td>\n",
       "      <td>0.035022</td>\n",
       "      <td>0.020381</td>\n",
       "      <td>0.015202</td>\n",
       "      <td>0.033052</td>\n",
       "    </tr>\n",
       "    <tr>\n",
       "      <th>TriTraining (NB)</th>\n",
       "      <td>0.401126</td>\n",
       "      <td>0.278153</td>\n",
       "      <td>0.166366</td>\n",
       "      <td>0.155030</td>\n",
       "      <td>0.300181</td>\n",
       "      <td>0.210628</td>\n",
       "      <td>0.116880</td>\n",
       "      <td>0.097225</td>\n",
       "      <td>0.406665</td>\n",
       "      <td>0.251790</td>\n",
       "      <td>0.196640</td>\n",
       "      <td>0.180885</td>\n",
       "      <td>0.275658</td>\n",
       "      <td>0.211221</td>\n",
       "      <td>0.110576</td>\n",
       "      <td>0.097111</td>\n",
       "    </tr>\n",
       "  </tbody>\n",
       "</table>\n",
       "</div>"
      ],
      "text/plain": [
       "                                 test_mean                                \\\n",
       "labeling_rate                          0.1       0.2       0.3       0.4   \n",
       "dataset     classifier                                                     \n",
       "abalone     Self-Training (CART)  0.208044  0.212577  0.209482  0.212609   \n",
       "            Self-Training (KNN)   0.242754  0.230311  0.229596  0.227203   \n",
       "            Self-Training (NB)    0.075651  0.086187  0.091458  0.091689   \n",
       "            TriTraining (CART)    0.167789  0.197977  0.192957  0.169758   \n",
       "            TriTraining (KNN)     0.159610  0.185034  0.152725  0.146791   \n",
       "            TriTraining (NB)      0.090718  0.085693  0.090472  0.088085   \n",
       "dermatology Self-Training (CART)  0.778153  0.879730  0.877102  0.909835   \n",
       "            Self-Training (KNN)   0.549399  0.696772  0.748574  0.781381   \n",
       "            Self-Training (NB)    0.676877  0.196396  0.196396  0.196396   \n",
       "            TriTraining (CART)    0.715766  0.896321  0.901727  0.907132   \n",
       "            TriTraining (KNN)     0.478078  0.647748  0.737913  0.773348   \n",
       "            TriTraining (NB)      0.401126  0.278153  0.166366  0.155030   \n",
       "\n",
       "                                  test_std                                \\\n",
       "labeling_rate                          0.1       0.2       0.3       0.4   \n",
       "dataset     classifier                                                     \n",
       "abalone     Self-Training (CART)  0.057041  0.058447  0.045617  0.051943   \n",
       "            Self-Training (KNN)   0.084157  0.083290  0.073373  0.074212   \n",
       "            Self-Training (NB)    0.023860  0.033949  0.036784  0.040028   \n",
       "            TriTraining (CART)    0.080768  0.063281  0.041478  0.070042   \n",
       "            TriTraining (KNN)     0.093613  0.084115  0.092253  0.085206   \n",
       "            TriTraining (NB)      0.035779  0.053914  0.058631  0.057578   \n",
       "dermatology Self-Training (CART)  0.107618  0.089891  0.071579  0.068335   \n",
       "            Self-Training (KNN)   0.072864  0.045663  0.053008  0.057703   \n",
       "            Self-Training (NB)    0.250911  0.069305  0.069305  0.069305   \n",
       "            TriTraining (CART)    0.152987  0.074975  0.068320  0.064047   \n",
       "            TriTraining (KNN)     0.061992  0.070364  0.080060  0.083499   \n",
       "            TriTraining (NB)      0.300181  0.210628  0.116880  0.097225   \n",
       "\n",
       "                                 trans_mean                                \\\n",
       "labeling_rate                           0.1       0.2       0.3       0.4   \n",
       "dataset     classifier                                                      \n",
       "abalone     Self-Training (CART)   0.210919  0.210920  0.211227  0.210881   \n",
       "            Self-Training (KNN)    0.237461  0.233099  0.232699  0.226223   \n",
       "            Self-Training (NB)     0.065025  0.085060  0.084710  0.083315   \n",
       "            TriTraining (CART)     0.181449  0.178936  0.197925  0.198067   \n",
       "            TriTraining (KNN)      0.186119  0.167961  0.186408  0.182644   \n",
       "            TriTraining (NB)       0.044423  0.043761  0.057842  0.082292   \n",
       "dermatology Self-Training (CART)   0.790551  0.911953  0.901929  0.935674   \n",
       "            Self-Training (KNN)    0.506809  0.692879  0.737414  0.785715   \n",
       "            Self-Training (NB)     0.645830  0.194363  0.215726  0.223930   \n",
       "            TriTraining (CART)     0.769580  0.918764  0.916243  0.946829   \n",
       "            TriTraining (KNN)      0.443366  0.668955  0.744788  0.800413   \n",
       "            TriTraining (NB)       0.406665  0.251790  0.196640  0.180885   \n",
       "\n",
       "                                 trans_std                                \n",
       "labeling_rate                          0.1       0.2       0.3       0.4  \n",
       "dataset     classifier                                                    \n",
       "abalone     Self-Training (CART)  0.012029  0.010081  0.010464  0.015029  \n",
       "            Self-Training (KNN)   0.007264  0.011785  0.008617  0.008845  \n",
       "            Self-Training (NB)    0.004766  0.010414  0.006705  0.005651  \n",
       "            TriTraining (CART)    0.061071  0.060470  0.011228  0.009981  \n",
       "            TriTraining (KNN)     0.063314  0.084159  0.063170  0.061573  \n",
       "            TriTraining (NB)      0.044664  0.053617  0.047577  0.041538  \n",
       "dermatology Self-Training (CART)  0.068355  0.027151  0.026938  0.015822  \n",
       "            Self-Training (KNN)   0.052777  0.026361  0.025927  0.030130  \n",
       "            Self-Training (NB)    0.256829  0.012955  0.040900  0.035261  \n",
       "            TriTraining (CART)    0.041982  0.020228  0.027497  0.014985  \n",
       "            TriTraining (KNN)     0.035022  0.020381  0.015202  0.033052  \n",
       "            TriTraining (NB)      0.275658  0.211221  0.110576  0.097111  "
      ]
     },
     "execution_count": 8,
     "metadata": {},
     "output_type": "execute_result"
    }
   ],
   "source": [
    "pd.pivot_table(results, values=None, index=['dataset', 'classifier'], columns=['labeling_rate'])"
   ]
  },
  {
   "cell_type": "markdown",
   "metadata": {},
   "source": [
    "------\n",
    "[1]: Isaac Triguero et. al \"Self-labeled techniques for semi-supervised learning:taxonomy, software and empirical study\" 2015\n",
    "\n",
    "[2]: Yarowsky D (1995) Unsupervised word sense disambiguation rivaling supervised methods. In: Proceedings\n",
    "of the 33rd annual meeting of the association for computational linguistics, pp 189–196\n",
    "\n",
    "[3]: Zhou ZH, Li M (2005) Tri-training: exploiting unlabeled data using three classifiers. IEEE Trans Knowl\n",
    "Data Eng 17:1529–1541"
   ]
  },
  {
   "cell_type": "code",
   "execution_count": 17,
   "metadata": {
    "collapsed": false,
    "scrolled": false
   },
   "outputs": [
    {
     "name": "stdout",
     "output_type": "stream",
     "text": [
      "Self-Training (CART) dermatology  Labeling ratio: 0.4\n"
     ]
    },
    {
     "data": {
      "image/png": "[encoded data removed]",
      "text/plain": [
       "<matplotlib.figure.Figure at 0x7fdd35d21940>"
      ]
     },
     "metadata": {},
     "output_type": "display_data"
    },
    {
     "name": "stdout",
     "output_type": "stream",
     "text": [
      "Self-Training (CART) abalone  Labeling ratio: 0.4\n"
     ]
    },
    {
     "data": {
      "image/png": "[encoded data removed]",
      "text/plain": [
       "<matplotlib.figure.Figure at 0x7fdd35ce4080>"
      ]
     },
     "metadata": {},
     "output_type": "display_data"
    },
    {
     "name": "stdout",
     "output_type": "stream",
     "text": [
      "TriTraining (NB) dermatology  Labeling ratio: 0.4\n"
     ]
    },
    {
     "data": {
      "image/png": "[encoded data removed]",
      "text/plain": [
       "<matplotlib.figure.Figure at 0x7fdd70195d30>"
      ]
     },
     "metadata": {},
     "output_type": "display_data"
    },
    {
     "name": "stdout",
     "output_type": "stream",
     "text": [
      "Self-Training (NB) abalone  Labeling ratio: 0.4\n"
     ]
    },
    {
     "data": {
      "image/png": "[encoded data removed]",
      "text/plain": [
       "<matplotlib.figure.Figure at 0x7fdd358f1390>"
      ]
     },
     "metadata": {},
     "output_type": "display_data"
    },
    {
     "name": "stdout",
     "output_type": "stream",
     "text": [
      "Self-Training (KNN) dermatology  Labeling ratio: 0.4\n"
     ]
    },
    {
     "data": {
      "image/png": "[encoded data removed]",
      "text/plain": [
       "<matplotlib.figure.Figure at 0x7fdd357889e8>"
      ]
     },
     "metadata": {},
     "output_type": "display_data"
    }
   ],
   "source": [
    "import seaborn as sns\n",
    "%matplotlib inline\n",
    "\n",
    "cnf_matrixes_to_show ={\n",
    "    (\"Self-Training (CART)\", \"dermatology\", 0.4),\n",
    "    (\"Self-Training (KNN)\", \"dermatology\", 0.4),\n",
    "    (\"Self-Training (CART)\", \"abalone\", 0.4),\n",
    "    (\"Self-Training (NB)\", \"abalone\", 0.4),\n",
    "    (\"TriTraining (NB)\", \"dermatology\", 0.4),\n",
    "}\n",
    "for classifier, dataset, ratio in cnf_matrixes_to_show:\n",
    "    matrix = cnf_matrixes[classifier][dataset][ratio]\n",
    "    print(classifier, dataset,\" Labeling ratio:\",ratio)\n",
    "    #print(matrix)\n",
    "    sns.heatmap(matrix,annot=True, square=True)\n",
    "    sns.plt.show()"
   ]
  },
  {
   "cell_type": "code",
   "execution_count": null,
   "metadata": {
    "collapsed": true
   },
   "outputs": [],
   "source": []
  }
 ],
 "metadata": {
  "kernelspec": {
   "display_name": "Python 3",
   "language": "python",
   "name": "python3"
  },
  "language_info": {
   "codemirror_mode": {
    "name": "ipython",
    "version": 3
   },
   "file_extension": ".py",
   "mimetype": "text/x-python",
   "name": "python",
   "nbconvert_exporter": "python",
   "pygments_lexer": "ipython3",
   "version": "3.5.2+"
  }
 },
 "nbformat": 4,
 "nbformat_minor": 2
}
